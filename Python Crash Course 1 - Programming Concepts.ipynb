{
 "cells": [
  {
   "cell_type": "markdown",
   "id": "ae7b7371-6858-46c5-b522-bdd2b1462bbf",
   "metadata": {},
   "source": [
    "# Downstream Exploitation of Space Data\n",
    "## Python Crash Course Part 1: Programming Concepts\n",
    "\n",
    "### Learning Objectives\n",
    "\n",
    "You will: \n",
    "* be able to define and use variables\n",
    "* know different data types and how to convert between them\n",
    "* be faminilar with Python collections\n",
    "* be able to use loops and conditional statements\n",
    "* be able to define and use functions"
   ]
  },
  {
   "cell_type": "markdown",
   "id": "945f2060-286c-477d-a476-86a43987ee8a",
   "metadata": {},
   "source": [
    "### Using Python as a Calculator\n",
    "\n",
    "You can use Python as a simple calculator to execute math operations. Press **Shift + Enter** to execute the code cells below."
   ]
  },
  {
   "cell_type": "code",
   "execution_count": 1,
   "id": "191ddd41-43aa-48f7-834f-2b76fe89a32c",
   "metadata": {},
   "outputs": [
    {
     "data": {
      "text/plain": [
       "2"
      ]
     },
     "execution_count": 1,
     "metadata": {},
     "output_type": "execute_result"
    }
   ],
   "source": [
    "1 + 1"
   ]
  },
  {
   "cell_type": "code",
   "execution_count": 2,
   "id": "33e8a485-9690-46f0-83fc-2fb3a4418047",
   "metadata": {},
   "outputs": [
    {
     "data": {
      "text/plain": [
       "25"
      ]
     },
     "execution_count": 2,
     "metadata": {},
     "output_type": "execute_result"
    }
   ],
   "source": [
    "5*5"
   ]
  },
  {
   "cell_type": "code",
   "execution_count": 3,
   "id": "7004218b-7af0-44c7-ae05-fcf434027330",
   "metadata": {},
   "outputs": [
    {
     "data": {
      "text/plain": [
       "9"
      ]
     },
     "execution_count": 3,
     "metadata": {},
     "output_type": "execute_result"
    }
   ],
   "source": [
    "3**2"
   ]
  },
  {
   "cell_type": "code",
   "execution_count": 4,
   "id": "d03af8d5-0521-444a-8c9c-8aa5fc4b7c78",
   "metadata": {},
   "outputs": [
    {
     "data": {
      "text/plain": [
       "True"
      ]
     },
     "execution_count": 4,
     "metadata": {},
     "output_type": "execute_result"
    }
   ],
   "source": [
    "5 > 4"
   ]
  },
  {
   "cell_type": "markdown",
   "id": "7f1d105b-ae83-4f3e-b073-dc6559518bda",
   "metadata": {},
   "source": [
    "If we want to perform a more complex mathematical operation, we can use a function. A function is a piece of code that performs an action. Here are some examples of functions:"
   ]
  },
  {
   "cell_type": "code",
   "execution_count": 5,
   "id": "4d680004-dea3-4100-8f5c-d6a8d6363303",
   "metadata": {},
   "outputs": [
    {
     "name": "stdout",
     "output_type": "stream",
     "text": [
      "hello, world\n"
     ]
    }
   ],
   "source": [
    "print('hello, world') # not math :)"
   ]
  },
  {
   "cell_type": "code",
   "execution_count": 6,
   "id": "620b34fb-54f0-45f1-9b78-5488354ce537",
   "metadata": {},
   "outputs": [
    {
     "ename": "NameError",
     "evalue": "name 'sqrt' is not defined",
     "output_type": "error",
     "traceback": [
      "\u001b[0;31m---------------------------------------------------------------------------\u001b[0m",
      "\u001b[0;31mNameError\u001b[0m                                 Traceback (most recent call last)",
      "Cell \u001b[0;32mIn[6], line 1\u001b[0m\n\u001b[0;32m----> 1\u001b[0m \u001b[43msqrt\u001b[49m(\u001b[38;5;241m4\u001b[39m)\n",
      "\u001b[0;31mNameError\u001b[0m: name 'sqrt' is not defined"
     ]
    }
   ],
   "source": [
    "sqrt(4)"
   ]
  },
  {
   "cell_type": "markdown",
   "id": "54566e52-7be2-4240-bd65-1a772ad68a0f",
   "metadata": {},
   "source": [
    "Why didn't it work? This is because we first need to load a module that contains a square root function:"
   ]
  },
  {
   "cell_type": "code",
   "execution_count": null,
   "id": "5e4f9e07-edf8-4acf-8711-994c53655168",
   "metadata": {},
   "outputs": [],
   "source": [
    "import math # 'import X' will import everything in the module X"
   ]
  },
  {
   "cell_type": "code",
   "execution_count": null,
   "id": "3fa9f907-4fbb-47e7-98eb-60cd36f6b882",
   "metadata": {},
   "outputs": [],
   "source": [
    "math.sqrt(4) # after we have imported a module X, we can use a function from it with X.function"
   ]
  },
  {
   "cell_type": "markdown",
   "id": "a64c83fd-016d-4d06-be52-e4b9cc22b149",
   "metadata": {},
   "source": [
    "### Variables and Data Types\n",
    "\n",
    "Variables store information that can be used and manipulated in a program.\n",
    "\n",
    "A variable can be created by assignment, which will associate a name with a value. The symbol of assignment used in Python is the equality sign (=). Let's create a variable:"
   ]
  },
  {
   "cell_type": "code",
   "execution_count": null,
   "id": "4b714e51-1af5-4840-9c6e-e3cb74473957",
   "metadata": {},
   "outputs": [],
   "source": [
    "my_number = math.pi + 3"
   ]
  },
  {
   "cell_type": "markdown",
   "id": "f609a56b-ae2a-472e-8182-589634158469",
   "metadata": {},
   "source": [
    "No output is printed when a variable is assigned. We can now call a variable and see what happens:"
   ]
  },
  {
   "cell_type": "code",
   "execution_count": null,
   "id": "a73edd99-88ef-4ceb-a581-0931a5186195",
   "metadata": {},
   "outputs": [],
   "source": [
    "my_number"
   ]
  },
  {
   "cell_type": "markdown",
   "id": "06db4b21-e086-455f-a10f-66a2992c0aa7",
   "metadata": {},
   "source": [
    "We can update the value of this variable by redefining it:"
   ]
  },
  {
   "cell_type": "code",
   "execution_count": null,
   "id": "d36be27a-fc58-41bf-8930-4b8058dd2d2b",
   "metadata": {},
   "outputs": [],
   "source": [
    "my_number = 10"
   ]
  },
  {
   "cell_type": "code",
   "execution_count": null,
   "id": "de5c838e-bd76-4a7b-914f-6d3f6574794f",
   "metadata": {},
   "outputs": [],
   "source": [
    "print('The value of our variable is now:', my_number) # we can make the output more informative by combining it with a print statement\n",
    "# by the way, if you put a # symbol, you will be able to write comments, which is very helpful for people reading you code (and for you)"
   ]
  },
  {
   "cell_type": "markdown",
   "id": "e49cab5b-a136-4c12-90e0-f44742a0a6b1",
   "metadata": {},
   "source": [
    "Another way to update the value is to evaluate an expression on the right-hand side:"
   ]
  },
  {
   "cell_type": "code",
   "execution_count": null,
   "id": "7a5c53ee-7291-4b9e-8a65-9ba84a3097cb",
   "metadata": {},
   "outputs": [],
   "source": [
    "my_number = my_number + 1"
   ]
  },
  {
   "cell_type": "markdown",
   "id": "0fa3e7e4-6720-4356-90ec-d7cb0643c2fa",
   "metadata": {},
   "source": [
    "This might not make much sense math-wise but = symbol in Python is not used for equality, instead == is. Let's now see what the value of our variable is now:"
   ]
  },
  {
   "cell_type": "code",
   "execution_count": null,
   "id": "ac2154db-0e3d-4d51-9189-ce403474d399",
   "metadata": {},
   "outputs": [],
   "source": [
    "my_number"
   ]
  },
  {
   "cell_type": "markdown",
   "id": "b3be5954-ca97-49b3-b6e7-a701f92a3561",
   "metadata": {},
   "source": [
    "Another (more 'pythonian') way to write the same would be like this:"
   ]
  },
  {
   "cell_type": "code",
   "execution_count": null,
   "id": "99de93f5-5238-4076-bfd6-6b87aaeeeb32",
   "metadata": {},
   "outputs": [],
   "source": [
    "my_number += 1\n",
    "my_number # we can do the assignment and call the variable in the same cell too"
   ]
  },
  {
   "cell_type": "markdown",
   "id": "8e4a0820-465d-4192-8799-e40d9a33b8d8",
   "metadata": {},
   "source": [
    "A variable in Python can have one of four data types: integer, flot, string, and boolean expression. Below are the examples of each of them:"
   ]
  },
  {
   "cell_type": "code",
   "execution_count": null,
   "id": "9aff7f87-1f70-4e4a-8a63-5e6bc86c69dc",
   "metadata": {},
   "outputs": [],
   "source": [
    "x = 5  # integer (int)\n",
    "y = 3.14  # float\n",
    "z = 'Hello, world!'  # string (str)\n",
    "a = True # Boolean expression (bool)"
   ]
  },
  {
   "cell_type": "markdown",
   "id": "2a617531-2402-407d-aca4-e7901d81ac01",
   "metadata": {},
   "source": [
    "You can check this by calling a type() function:"
   ]
  },
  {
   "cell_type": "code",
   "execution_count": null,
   "id": "625dc368-b0d0-4622-8487-16a4dfdaff25",
   "metadata": {},
   "outputs": [],
   "source": [
    "type(my_number)"
   ]
  },
  {
   "cell_type": "markdown",
   "id": "d3869de5-1c9c-4294-b05b-b8afe83fdc09",
   "metadata": {},
   "source": [
    "Let's try to add y (float) to my_number (int):"
   ]
  },
  {
   "cell_type": "code",
   "execution_count": null,
   "id": "fd7ad87a-c0e9-4af5-859f-784297d3044e",
   "metadata": {},
   "outputs": [],
   "source": [
    "result = y + my_number\n",
    "print('Variable result has value', result, 'and type', type(result))"
   ]
  },
  {
   "cell_type": "markdown",
   "id": "8e70b1aa-79f2-4eaf-9c1b-97f782bb5204",
   "metadata": {},
   "source": [
    "By the way, a way to write this print statement would be using an f-string:"
   ]
  },
  {
   "cell_type": "code",
   "execution_count": null,
   "id": "f3c3ef9d-0cf7-4e03-adf9-7d623290a792",
   "metadata": {},
   "outputs": [],
   "source": [
    "print(f'Variable result has value {result} and type {type(result)}') "
   ]
  },
  {
   "cell_type": "markdown",
   "id": "a5e25a42-63e0-43f7-9359-270e429e4654",
   "metadata": {},
   "source": [
    "What about adding y to z?"
   ]
  },
  {
   "cell_type": "code",
   "execution_count": null,
   "id": "fbeef774-e972-428c-bb0f-40400e8e3f85",
   "metadata": {},
   "outputs": [],
   "source": [
    "result2 = y + z"
   ]
  },
  {
   "cell_type": "markdown",
   "id": "27fe3624-da16-46a4-80a9-9c3db9267f81",
   "metadata": {},
   "source": [
    "Seems like we can't add floats and strings together. Let's try something else then:"
   ]
  },
  {
   "cell_type": "code",
   "execution_count": null,
   "id": "f6150eea-f82c-41f9-8e77-2901b81567b9",
   "metadata": {},
   "outputs": [],
   "source": [
    "y_str = str(y)\n",
    "result2 = y_str + z\n",
    "result2"
   ]
  },
  {
   "cell_type": "markdown",
   "id": "1d37c3ed-30a1-491f-a919-2a408f0b07ed",
   "metadata": {},
   "source": [
    "This works because we have converted y to a string and saved it in a new variable:"
   ]
  },
  {
   "cell_type": "code",
   "execution_count": null,
   "id": "bf914308-9af6-4ff3-abe3-d696ec3811b0",
   "metadata": {},
   "outputs": [],
   "source": [
    "type(y_str)"
   ]
  },
  {
   "cell_type": "markdown",
   "id": "2e3ab95d-ae5d-472a-a634-ee878dcdf005",
   "metadata": {},
   "source": [
    "You can also convert floats to integers and vice versa with float() and int(), as well as integers to strings with str()."
   ]
  },
  {
   "cell_type": "markdown",
   "id": "bab5d0e9-10fe-4c8c-b767-7180c624fab9",
   "metadata": {},
   "source": [
    "Here are Python naming rules for variables:\n",
    "\n",
    "* A name must begin with a letter or the underscore character (_) -> *number, num2, Number, _num, _* are valid variable names but for now do now name a variable _\n",
    "* A name can not begin with a number -> *2num* is not a valid variable name\n",
    "* A name can contain multiple words linked with an underscore and it is often helful to do so -> *number_stars* is a valid (and informative) variable name\n",
    "* A name can not be a Python keyword -> *and, if, from, when, while* and other Python keywords are not valid variable names. You will know you typed a keyword when a word turns green\n",
    "* A name can not be a punctuation, delimiter, or an operator -> *(, ;, +* and other are not valid variable names\n",
    "* An uppercase and a lowercase name are different -> *num* and *NUM* are different variables\n",
    "* Try to name your objects in an informative way that allows others (and you) to understand your code -> *abc* is a valid variable name but it is not informative for a variable storing your age, while *my_age* is a good variable name"
   ]
  },
  {
   "cell_type": "markdown",
   "id": "8ad59511-4854-4bdc-8f58-5fdf906ddcaf",
   "metadata": {},
   "source": [
    "### Lists\n",
    "\n",
    "Lists are iterable collections of items of any type (or even mixed types).\n",
    "\n",
    "The first way to define a list is to use square brackets ([]):"
   ]
  },
  {
   "cell_type": "code",
   "execution_count": null,
   "id": "ca151e18-256a-4c39-bddc-3bf344977d8b",
   "metadata": {},
   "outputs": [],
   "source": [
    "my_list = ['a', 1, 5.4]\n",
    "my_list"
   ]
  },
  {
   "cell_type": "markdown",
   "id": "1e100372-e254-487c-87ae-24e8c46659ff",
   "metadata": {},
   "source": [
    "Another way is to create is from another collection, i.e. a string:"
   ]
  },
  {
   "cell_type": "code",
   "execution_count": null,
   "id": "05adf555-2e86-46e5-814f-10d17513ad44",
   "metadata": {},
   "outputs": [],
   "source": [
    "list_hello = list('hello')\n",
    "list_hello"
   ]
  },
  {
   "cell_type": "markdown",
   "id": "89e51783-d5e2-4388-9661-400d6bca19bf",
   "metadata": {},
   "source": [
    "Let's chech the type of those objects:"
   ]
  },
  {
   "cell_type": "code",
   "execution_count": null,
   "id": "26a3255b-176a-4d1f-b628-e175b287747e",
   "metadata": {},
   "outputs": [],
   "source": [
    "type(my_list), type(list_hello)"
   ]
  },
  {
   "cell_type": "markdown",
   "id": "8a380110-2a7a-486b-a35e-2f7179fb2df4",
   "metadata": {},
   "source": [
    "We can check a number of items in a list with a len() function:"
   ]
  },
  {
   "cell_type": "code",
   "execution_count": null,
   "id": "04a305dc-4249-4491-b534-2404ef0a47ca",
   "metadata": {},
   "outputs": [],
   "source": [
    "len(my_list)"
   ]
  },
  {
   "cell_type": "markdown",
   "id": "3548037d-bf61-457e-942d-acb9b42b97ac",
   "metadata": {},
   "source": [
    "We can get a certain element in a list by putting its index in square brackets. Let's try to get the first element:"
   ]
  },
  {
   "cell_type": "code",
   "execution_count": null,
   "id": "53ac7f0f-b63f-4dcb-b8bf-8afeb0abe87f",
   "metadata": {},
   "outputs": [],
   "source": [
    "my_list[1]"
   ]
  },
  {
   "cell_type": "markdown",
   "id": "6a7c0795-f913-4f00-a1d0-76e75cc75711",
   "metadata": {},
   "source": [
    "Why did we get 1 instead of 'a'? This is because the index of the first element in a collection is 0, not 1:"
   ]
  },
  {
   "cell_type": "code",
   "execution_count": null,
   "id": "912f2f68-ff35-4dca-b234-de0b17cc2fd0",
   "metadata": {},
   "outputs": [],
   "source": [
    "my_list[0]"
   ]
  },
  {
   "cell_type": "markdown",
   "id": "66568bb2-c14a-445a-890c-4862eb6955a1",
   "metadata": {},
   "source": [
    "To get the last element, we can use index -1:"
   ]
  },
  {
   "cell_type": "code",
   "execution_count": null,
   "id": "b97cd1c3-f4b2-468f-91f4-2509cd16b344",
   "metadata": {},
   "outputs": [],
   "source": [
    "my_list[-1]"
   ]
  },
  {
   "cell_type": "markdown",
   "id": "fab58661-91f6-4951-b2e9-d5fc7b237f84",
   "metadata": {},
   "source": [
    "The second to last element has index -2, which would be the same as the element with index 1 in our case:"
   ]
  },
  {
   "cell_type": "code",
   "execution_count": null,
   "id": "a7bb4a00-1673-4506-ba1f-b424b724f908",
   "metadata": {},
   "outputs": [],
   "source": [
    "my_list[-2]"
   ]
  },
  {
   "cell_type": "markdown",
   "id": "8d8ecfdd-49d3-43ed-8507-c89446d1c2e7",
   "metadata": {},
   "source": [
    "If you try getting an element outside of the index range, you will get an error:"
   ]
  },
  {
   "cell_type": "code",
   "execution_count": null,
   "id": "149e4d1f-e55d-4582-8e09-55821d7c8a1e",
   "metadata": {},
   "outputs": [],
   "source": [
    "my_list[3]"
   ]
  },
  {
   "cell_type": "markdown",
   "id": "33de3bb4-c84a-4255-a669-ab701495663d",
   "metadata": {},
   "source": [
    "It is possible to have a list an an element of a list:"
   ]
  },
  {
   "cell_type": "code",
   "execution_count": null,
   "id": "0bdb9f22-76f2-4193-b9a8-4ba2e7851e32",
   "metadata": {},
   "outputs": [],
   "source": [
    "list_of_lists = [[1,2,3], ['a','b','c']]"
   ]
  },
  {
   "cell_type": "markdown",
   "id": "71cab147-7ab7-4ee6-9f18-fb7dce2d9c46",
   "metadata": {},
   "source": [
    "If you want to get the second element of the first list, it would look like this:"
   ]
  },
  {
   "cell_type": "code",
   "execution_count": null,
   "id": "2b8453ae-f394-4403-8d77-fcd0a28d4882",
   "metadata": {},
   "outputs": [],
   "source": [
    "list_of_lists[0][1] # the first [] retrieves the first element (list) of the master list, \n",
    "# and the second set of [] gets the element from it"
   ]
  },
  {
   "cell_type": "markdown",
   "id": "a715a05f-e3c9-4b33-9956-267726a2fa56",
   "metadata": {},
   "source": [
    "Here are some common list operations:"
   ]
  },
  {
   "cell_type": "code",
   "execution_count": null,
   "id": "66b2cfef-6e33-4a3b-ac9b-0e018d05b650",
   "metadata": {},
   "outputs": [],
   "source": [
    "example_list = [1, 2, 1, 6, 4, 1, 5] # defining a new list to experiment on\n",
    "example_list"
   ]
  },
  {
   "cell_type": "code",
   "execution_count": null,
   "id": "acff7d8d-99b9-4579-a4d8-980c09c93e6e",
   "metadata": {},
   "outputs": [],
   "source": [
    "del example_list[-1] # removes the element with a specified index\n",
    "example_list"
   ]
  },
  {
   "cell_type": "code",
   "execution_count": null,
   "id": "66bda075-da68-47b7-adbd-721b314fe8c2",
   "metadata": {},
   "outputs": [],
   "source": [
    "example_list.pop(-1) # removes the element with a specified index\n",
    "example_list"
   ]
  },
  {
   "cell_type": "code",
   "execution_count": null,
   "id": "a43f73dc-e40e-4b10-a1e1-d944cd12a024",
   "metadata": {},
   "outputs": [],
   "source": [
    "example_list.remove(1) # removes the first element that is equal to a specified value (not index!)\n",
    "example_list"
   ]
  },
  {
   "cell_type": "code",
   "execution_count": null,
   "id": "92a37bb7-d416-488b-98f2-e516b05b7dc1",
   "metadata": {},
   "outputs": [],
   "source": [
    "example_list.append(5) # adds and element with a specificed value to the end of the list\n",
    "example_list"
   ]
  },
  {
   "cell_type": "code",
   "execution_count": null,
   "id": "060fefb5-2471-4b1d-a92f-3cd627d290d4",
   "metadata": {},
   "outputs": [],
   "source": [
    "example_list[-1] = 2 # assignes the element with a specified index a value on the right hand side of the assignment\n",
    "example_list"
   ]
  },
  {
   "cell_type": "code",
   "execution_count": null,
   "id": "06070a5d-eb34-46c2-bb21-26a22e415db3",
   "metadata": {},
   "outputs": [],
   "source": [
    "example_list.count(2) # returns a number of instances in a list equal to a specified value"
   ]
  },
  {
   "cell_type": "code",
   "execution_count": null,
   "id": "a50eca30-7f51-411e-8e36-23713dba1fce",
   "metadata": {},
   "outputs": [],
   "source": [
    "example_list.index(2) # returns the index of the first occurance of an element matching a specificed value"
   ]
  },
  {
   "cell_type": "code",
   "execution_count": null,
   "id": "bcac936d-2887-4d67-91a4-481ba34c3d70",
   "metadata": {},
   "outputs": [],
   "source": [
    "example_list.reverse() # reverses a list\n",
    "example_list"
   ]
  },
  {
   "cell_type": "code",
   "execution_count": null,
   "id": "385ce851-104f-4971-8fb2-03ae72a86438",
   "metadata": {},
   "outputs": [],
   "source": [
    "example_list.sort() # sorts a list\n",
    "example_list"
   ]
  },
  {
   "cell_type": "markdown",
   "id": "0e0472ba-7a1b-4b61-8950-20228c5df1ab",
   "metadata": {},
   "source": [
    "An important list manipulation tool is slicing, which allows you to create subsequences:"
   ]
  },
  {
   "cell_type": "code",
   "execution_count": null,
   "id": "bf832ea8-2d14-42e3-b14d-101ac8f80152",
   "metadata": {},
   "outputs": [],
   "source": [
    "example_list[1:] # slice starting from a specified index and up to the end of the list"
   ]
  },
  {
   "cell_type": "code",
   "execution_count": null,
   "id": "6f3b4753-953e-48a9-9a68-c8eae458ac9a",
   "metadata": {},
   "outputs": [],
   "source": [
    "example_list[:-2] # slice starting from the beginning of the list and going up to (but not including) a specified index"
   ]
  },
  {
   "cell_type": "code",
   "execution_count": null,
   "id": "584a7ca9-4c3e-4193-935d-a685b8e8ffa8",
   "metadata": {},
   "outputs": [],
   "source": [
    "example_list[1:-2] # slice starting from the first specified index and going up to (but not including) the second specified index"
   ]
  },
  {
   "cell_type": "code",
   "execution_count": null,
   "id": "4192d88f-c5d9-46f0-8492-384857473905",
   "metadata": {},
   "outputs": [],
   "source": [
    "example_list[::2] # slice ranging the entire list, containing every second element"
   ]
  },
  {
   "cell_type": "code",
   "execution_count": null,
   "id": "c32b60b4-c3c4-4a86-98ca-e07936e29b64",
   "metadata": {},
   "outputs": [],
   "source": [
    "example_list[::-1] # step backwards from the end of the list"
   ]
  },
  {
   "cell_type": "code",
   "execution_count": null,
   "id": "e67348d4-16bc-4305-a64b-70e23453ef7a",
   "metadata": {},
   "outputs": [],
   "source": [
    "example_list[::-2] # step backwards from the end of the list but only with every second element"
   ]
  },
  {
   "cell_type": "code",
   "execution_count": null,
   "id": "6fb960d7-632b-4fef-838f-623fc2861a00",
   "metadata": {},
   "outputs": [],
   "source": [
    "copy_list = example_list[:] # copy of the original list\n",
    "copy_list"
   ]
  },
  {
   "cell_type": "markdown",
   "id": "626a5711-c0c8-4eee-9e8f-c04a9ba11d16",
   "metadata": {},
   "source": [
    "### Tuples\n",
    "\n",
    "Tuples are immutable lists. They have the same features, except tuples can not be modified.\n",
    "\n",
    "A tuple is defined with a comma:"
   ]
  },
  {
   "cell_type": "code",
   "execution_count": null,
   "id": "b9bb1477-bdf0-49f1-8835-79d7f4fab8de",
   "metadata": {},
   "outputs": [],
   "source": [
    "my_tuple = 1, 2, 3\n",
    "my_tuple"
   ]
  },
  {
   "cell_type": "markdown",
   "id": "a62779f0-c903-4607-8921-11a360b32a20",
   "metadata": {},
   "source": [
    "A tuple of a single element is therefore defined like this:"
   ]
  },
  {
   "cell_type": "code",
   "execution_count": null,
   "id": "cb7dd8e4-2fe2-4ebf-82d3-44d3cabc8c72",
   "metadata": {},
   "outputs": [],
   "source": [
    "tup = (1,)\n",
    "tup"
   ]
  },
  {
   "cell_type": "markdown",
   "id": "15dcbd54-5082-4a34-89a1-2a0de6cb79d2",
   "metadata": {},
   "source": [
    "List operators that do not modify elements will also work on tuples:"
   ]
  },
  {
   "cell_type": "code",
   "execution_count": null,
   "id": "d358fc63-fe80-43b2-adeb-60404eceef4c",
   "metadata": {},
   "outputs": [],
   "source": [
    "my_tuple[-1]"
   ]
  },
  {
   "cell_type": "code",
   "execution_count": null,
   "id": "46bd9658-debc-4d94-87e1-427a5500b733",
   "metadata": {},
   "outputs": [],
   "source": [
    "len(tup)"
   ]
  },
  {
   "cell_type": "markdown",
   "id": "c6941844-b4a6-4ba9-a0fa-e1c3342106ce",
   "metadata": {},
   "source": [
    "But trying to modify a tuple will give an error:"
   ]
  },
  {
   "cell_type": "code",
   "execution_count": null,
   "id": "a90af431-44f2-4ef6-84b0-476158bf5568",
   "metadata": {},
   "outputs": [],
   "source": [
    "tup.append(2)"
   ]
  },
  {
   "cell_type": "markdown",
   "id": "27ad8f46-9965-4e1f-ab36-b9072d3306da",
   "metadata": {},
   "source": [
    "A tuple can be create from a list:"
   ]
  },
  {
   "cell_type": "code",
   "execution_count": null,
   "id": "45e8b0e1-3248-4e42-a8d7-fae87b4ffec1",
   "metadata": {},
   "outputs": [],
   "source": [
    "list_to_tup = tuple(my_list)\n",
    "print(list_to_tup, type(list_to_tup))"
   ]
  },
  {
   "cell_type": "markdown",
   "id": "a634cf51-4ca4-4d66-a694-5d79d3fa5048",
   "metadata": {},
   "source": [
    "And vice versa:"
   ]
  },
  {
   "cell_type": "code",
   "execution_count": null,
   "id": "1a3c4067-6fd3-4703-83be-84080a627aca",
   "metadata": {},
   "outputs": [],
   "source": [
    "tup_to_list = list(my_tuple)\n",
    "print(tup_to_list, type(tup_to_list))"
   ]
  },
  {
   "cell_type": "markdown",
   "id": "1074f2ab-6fac-437a-9b8d-ab4ee894a90e",
   "metadata": {},
   "source": [
    "### Sets\n",
    "\n",
    "Sets are collections in which only one copy of an element can exist.\n",
    "\n",
    "A set is defined with curly brackets ({}):"
   ]
  },
  {
   "cell_type": "code",
   "execution_count": null,
   "id": "5d6e30e8-46c0-443f-bb8d-5a8704979577",
   "metadata": {},
   "outputs": [],
   "source": [
    "my_set = {1, 2, 3}\n",
    "my_set"
   ]
  },
  {
   "cell_type": "markdown",
   "id": "d19288ba-65c3-44da-8a7e-177a1de6a61c",
   "metadata": {},
   "source": [
    "We can also create a set with a set(), i.e. by converting a list to a set:"
   ]
  },
  {
   "cell_type": "code",
   "execution_count": null,
   "id": "c3e8c6c9-862a-4902-b334-6a460e80421e",
   "metadata": {},
   "outputs": [],
   "source": [
    "set_from_list = set(list_hello)\n",
    "set_from_list"
   ]
  },
  {
   "cell_type": "markdown",
   "id": "58b3dceb-1055-4b82-b5b0-ea472cd3960b",
   "metadata": {},
   "source": [
    "Note that 'l' appears only once, unlike in the list we made the set from."
   ]
  },
  {
   "cell_type": "markdown",
   "id": "35c6766e-80ff-4fbf-926b-5fc78063f1f9",
   "metadata": {},
   "source": [
    "List operations will also work on sets. Let's define two sets and perform some set-specific operations on them:"
   ]
  },
  {
   "cell_type": "code",
   "execution_count": null,
   "id": "0ca27e7c-9b84-4282-b600-a089c659e0e3",
   "metadata": {},
   "outputs": [],
   "source": [
    "a_set = {'a','b','c','d'}\n",
    "b_set = {'c','d','e','f'}"
   ]
  },
  {
   "cell_type": "code",
   "execution_count": null,
   "id": "3e0d4855-d09e-4c73-8e0a-78a8d5a1c67b",
   "metadata": {},
   "outputs": [],
   "source": [
    "a_set & b_set # intersection (common elements)"
   ]
  },
  {
   "cell_type": "code",
   "execution_count": null,
   "id": "df202771-23d6-45ae-b98a-1328a2e3b0c7",
   "metadata": {},
   "outputs": [],
   "source": [
    "a_set.intersection(b_set) # another way to do it"
   ]
  },
  {
   "cell_type": "code",
   "execution_count": null,
   "id": "6c432cde-bce9-46ae-91ed-7f1d2c19b7f4",
   "metadata": {},
   "outputs": [],
   "source": [
    "a_set.intersection('bq') # another way (not with a b_set but with a a set {'b', 'q'})"
   ]
  },
  {
   "cell_type": "code",
   "execution_count": null,
   "id": "216092b1-c027-41cb-96c0-e0e7af98eeaa",
   "metadata": {},
   "outputs": [],
   "source": [
    "a_set | b_set # union (all elements of both sets)"
   ]
  },
  {
   "cell_type": "code",
   "execution_count": null,
   "id": "3033dfdb-322f-4f8e-9cac-7129aec3e2b1",
   "metadata": {},
   "outputs": [],
   "source": [
    "a_set.union(b_set) # another way to do it"
   ]
  },
  {
   "cell_type": "code",
   "execution_count": null,
   "id": "0df971d8-c237-4483-92c1-804de59a0357",
   "metadata": {},
   "outputs": [],
   "source": [
    "a_set.union(['b', 'q']) # another way (not with a b_set)"
   ]
  },
  {
   "cell_type": "code",
   "execution_count": null,
   "id": "e7a980e1-2b58-4f29-8965-37ba9b28025e",
   "metadata": {},
   "outputs": [],
   "source": [
    "a_set - b_set # difference (elements in the first but NOT in the second set)"
   ]
  },
  {
   "cell_type": "code",
   "execution_count": null,
   "id": "c5b90671-2f28-4800-97f2-63068cb38086",
   "metadata": {},
   "outputs": [],
   "source": [
    "b_set - a_set # here, the order matters"
   ]
  },
  {
   "cell_type": "code",
   "execution_count": null,
   "id": "368bd2c3-6c28-4819-b098-0bbb1fed595b",
   "metadata": {},
   "outputs": [],
   "source": [
    "a_set.difference(b_set) # another way to do it"
   ]
  },
  {
   "cell_type": "code",
   "execution_count": null,
   "id": "3b1a5c85-8009-45ab-85e0-5746c7d3771f",
   "metadata": {},
   "outputs": [],
   "source": [
    "b_set.difference(a_set) # order also matters here"
   ]
  },
  {
   "cell_type": "code",
   "execution_count": null,
   "id": "d2dd2359-5917-4b93-a8f9-6d9b6c38fb63",
   "metadata": {},
   "outputs": [],
   "source": [
    "a_set ^ b_set # symmetric difference (unique elements in both sets) -> opposite of itnersection"
   ]
  },
  {
   "cell_type": "code",
   "execution_count": null,
   "id": "9394dbf6-13ed-48ab-a9b6-d6e868a963eb",
   "metadata": {},
   "outputs": [],
   "source": [
    "a_set.symmetric_difference(b_set) # another way to do it"
   ]
  },
  {
   "cell_type": "markdown",
   "id": "5292d2bd-a99f-4d54-83dd-9b2b06b5da60",
   "metadata": {},
   "source": [
    "### Conditional statements\n",
    "\n",
    "An if-statement is a control mechanism, which allows to selectively execute commands.\n",
    "\n",
    "An if-statement does the following:\n",
    "\n",
    "* A boolean expression is evaluated\n",
    "* If it is true, the indented part of code is executed\n",
    "* If it is false, the indented part of code is ignored"
   ]
  },
  {
   "cell_type": "markdown",
   "id": "5d82f9c1-876f-4f00-bf46-ef7678b2fa9c",
   "metadata": {},
   "source": [
    "Let's define a number:"
   ]
  },
  {
   "cell_type": "code",
   "execution_count": null,
   "id": "a8902ee0-d4b9-4083-b5c2-bee4ce728984",
   "metadata": {},
   "outputs": [],
   "source": [
    "number = 10"
   ]
  },
  {
   "cell_type": "markdown",
   "id": "8288b1c5-b8cc-4961-b126-20bb3d730c26",
   "metadata": {},
   "source": [
    "Let's now write our first conditinal statement:"
   ]
  },
  {
   "cell_type": "code",
   "execution_count": null,
   "id": "5871dd33-c446-4cc4-918d-f88e8d484ae8",
   "metadata": {},
   "outputs": [],
   "source": [
    "if number > 0: # boolean expression\n",
    "    print('The number is positive.') # code that will be executed if is true"
   ]
  },
  {
   "cell_type": "markdown",
   "id": "05772130-ab87-49e0-b7d6-0b5bfb3388da",
   "metadata": {},
   "source": [
    "Let's now try to do the same with a number that is less than 0."
   ]
  },
  {
   "cell_type": "code",
   "execution_count": null,
   "id": "024d505f-0d18-419f-9685-4b9be5b0fc9c",
   "metadata": {},
   "outputs": [],
   "source": [
    "number2 = -1"
   ]
  },
  {
   "cell_type": "code",
   "execution_count": null,
   "id": "6c049445-9525-45d1-987f-e1828f20aae5",
   "metadata": {},
   "outputs": [],
   "source": [
    "if number2 > 0:\n",
    "    print('The number is positive.')"
   ]
  },
  {
   "cell_type": "markdown",
   "id": "e2c56709-f011-429d-aa4b-368c1038765e",
   "metadata": {},
   "source": [
    "Nothing happened - why? Because the boolean expression is false, so the indented code was ignored. What is we wanted to print something in this situation? We can then use an if-else statement to execute another piece of code if the expression is false:"
   ]
  },
  {
   "cell_type": "code",
   "execution_count": null,
   "id": "0ae04e74-e283-4ce4-aece-47154dd60b80",
   "metadata": {},
   "outputs": [],
   "source": [
    "if number2 > 0: # boolean expression\n",
    "    print('The number is positive.') # code that will be executed if is true\n",
    "else:\n",
    "    print('The number is not positive.') # code that will be executed if is false"
   ]
  },
  {
   "cell_type": "markdown",
   "id": "ff812cee-1863-439a-969b-6127eae0bc37",
   "metadata": {},
   "source": [
    "Ok, great! Now, if there are more than two options, we can use an if-elif-then statement:"
   ]
  },
  {
   "cell_type": "code",
   "execution_count": null,
   "id": "ace13bd0-e546-4fb8-931d-74063f4885c9",
   "metadata": {},
   "outputs": [],
   "source": [
    "number3 = 0"
   ]
  },
  {
   "cell_type": "code",
   "execution_count": null,
   "id": "afaa9510-39a8-4fea-ad03-cb45e3901bf7",
   "metadata": {},
   "outputs": [],
   "source": [
    "if number3 == 0: # boolean expression (== means we check for equality)\n",
    "    print('The number is a zero.') # code that will be executed if is true\n",
    "elif number3 > 0: # a boolean expression that will only be evaluated if the first one was false\n",
    "    print('The number is positive.') # code that will be executed if the second one is true\n",
    "else:\n",
    "    print('The number is not positive.') # code that will be executed if the second one is false"
   ]
  },
  {
   "cell_type": "markdown",
   "id": "e8ab6084-4e47-4eba-b1e7-6af63b74d853",
   "metadata": {},
   "source": [
    "It is possible to have nested if statements:"
   ]
  },
  {
   "cell_type": "code",
   "execution_count": null,
   "id": "b9578921-dd66-4f3e-bfc5-c3ccadaa2495",
   "metadata": {},
   "outputs": [],
   "source": [
    "persons_age = 25"
   ]
  },
  {
   "cell_type": "code",
   "execution_count": null,
   "id": "5f113df3-ef2a-4575-8fe5-a821034b2231",
   "metadata": {},
   "outputs": [],
   "source": [
    "if persons_age > 18:\n",
    "    if persons_age < 65:\n",
    "        print(\"A person is an adult.\") # by the way, we can use double quotes instead of single ones for strings\n",
    "    else:\n",
    "        print(\"A person is a senior citizen.\")\n",
    "else:\n",
    "    print(\"A person is a minor.\")"
   ]
  },
  {
   "cell_type": "markdown",
   "id": "3f2bb123-fd4c-4248-b755-41f1e48cd217",
   "metadata": {},
   "source": [
    "### for-statement\n",
    "\n",
    "A for-statement allows to iterate through a collection (string, list, tuple, etc.):"
   ]
  },
  {
   "cell_type": "code",
   "execution_count": null,
   "id": "ffe704b5-a8ea-4d16-9a7a-2879e5a82e78",
   "metadata": {},
   "outputs": [],
   "source": [
    "for letter in 'space':\n",
    "    print(letter)"
   ]
  },
  {
   "cell_type": "markdown",
   "id": "152e5765-e5cd-4323-b8f8-ca6988cefecb",
   "metadata": {},
   "source": [
    "You can also use it to do it a certain number of times:"
   ]
  },
  {
   "cell_type": "code",
   "execution_count": null,
   "id": "1fb341d3-03d4-4e98-a0f6-04f367a3db74",
   "metadata": {},
   "outputs": [],
   "source": [
    "for i in range(5): # remember that we start counting from 0, so this will count 5 times (from 0 to 4)\n",
    "    print(i)"
   ]
  },
  {
   "cell_type": "code",
   "execution_count": null,
   "id": "1b4ed3fd-66e1-4a0a-9187-956ba5d2920b",
   "metadata": {},
   "outputs": [],
   "source": [
    "for i in range(1,5): # if you don't want to count from 0, you can specify the start of the range\n",
    "    print(i)"
   ]
  },
  {
   "cell_type": "markdown",
   "id": "a67d9b3a-2dae-416e-9b03-19cda424d6a6",
   "metadata": {},
   "source": [
    "Let's try to combine a for-statement with an if-statement:"
   ]
  },
  {
   "cell_type": "code",
   "execution_count": null,
   "id": "39c02881-4007-4763-b13b-8cb305d5d0c7",
   "metadata": {},
   "outputs": [],
   "source": [
    "numbers = [1, 2, 3, 4, 5, 6, 7]"
   ]
  },
  {
   "cell_type": "code",
   "execution_count": null,
   "id": "1e7e5f96-1f93-469c-be98-0c0bcdde7301",
   "metadata": {},
   "outputs": [],
   "source": [
    "for number in numbers:\n",
    "    if number == 4:\n",
    "        break  # exit loop when number is 4\n",
    "    if number % 2 == 0: # a modulo operator (%) checks what is the remainder when dividing by a specified integer\n",
    "        continue  # skip even numbers\n",
    "    print('Odd number:', number)\n",
    "else: # only executed if the loop ends normally, without breaking\n",
    "    print('Loop completed without break.')"
   ]
  },
  {
   "cell_type": "markdown",
   "id": "f2ba5488-b479-4930-843a-56591c58c994",
   "metadata": {},
   "source": [
    "What happened here? This piece of code printed only odd number from a list. But why without 5 and 7? This is because we broke from the loop with a break statement (immediate exit from a loop). This also skipped the else-statement, as it is only executed when the loop is executed without breaking."
   ]
  },
  {
   "cell_type": "markdown",
   "id": "72042cb1-dc36-4c3f-a516-590ec2505223",
   "metadata": {},
   "source": [
    "### while-statement\n",
    "\n",
    "A while-statement allows to execute code until a certain condition is met:"
   ]
  },
  {
   "cell_type": "code",
   "execution_count": null,
   "id": "9976711a-df1e-49e4-988f-a5f8f49cbab2",
   "metadata": {},
   "outputs": [],
   "source": [
    "i = 0 # 'sentinel' that controls the loop\n",
    "while i < 5: # check for this condition\n",
    "    print(i)\n",
    "    i += 1 # inrease the sentinel value by 1, otherwise the loop will run forever"
   ]
  },
  {
   "cell_type": "markdown",
   "id": "66ec13fd-333e-48be-bfd7-76a331b27fa5",
   "metadata": {},
   "source": [
    "Just like with for-loops, a while loop can contain break and else statements:"
   ]
  },
  {
   "cell_type": "code",
   "execution_count": null,
   "id": "abf3b768-f42b-4bad-aa80-d44fc6b744ff",
   "metadata": {},
   "outputs": [],
   "source": [
    "j = 0\n",
    "while j < 5:\n",
    "    if j == 3:\n",
    "        print('Breaking the loop.')\n",
    "        break\n",
    "    print('Value of j:', j)\n",
    "    j += 1\n",
    "else:\n",
    "    print('Loop completed without break.')"
   ]
  },
  {
   "cell_type": "markdown",
   "id": "7ecf09c3-cdab-4bae-9dac-f0118f6462d4",
   "metadata": {},
   "source": [
    "It is possible to write a while-loop that behaves like a for-loop:"
   ]
  },
  {
   "cell_type": "code",
   "execution_count": null,
   "id": "204a83c3-48f9-45cf-8f76-602ef722e7ae",
   "metadata": {},
   "outputs": [],
   "source": [
    "for i in range(5):\n",
    "    print(i)"
   ]
  },
  {
   "cell_type": "code",
   "execution_count": null,
   "id": "2607a8fa-4fae-4f55-aa69-15ea255f92aa",
   "metadata": {},
   "outputs": [],
   "source": [
    "i = 0\n",
    "while i < 5:\n",
    "    print(i)\n",
    "    i += 1"
   ]
  },
  {
   "cell_type": "markdown",
   "id": "2f567503-b3ad-48e1-8fe2-73edb468e25f",
   "metadata": {},
   "source": [
    "But not very while-loop can be made into a for-loop:"
   ]
  },
  {
   "cell_type": "code",
   "execution_count": null,
   "id": "d7f7eb1a-d07f-4720-a563-b880939890c2",
   "metadata": {},
   "outputs": [],
   "source": [
    "import random"
   ]
  },
  {
   "cell_type": "code",
   "execution_count": null,
   "id": "b57adab2-8f17-4905-aae5-5bfc5b050954",
   "metadata": {},
   "outputs": [],
   "source": [
    "number = random.randint(1, 5)\n",
    "\n",
    "while number != 3: # continue looping until the number equals 3\n",
    "    print(f\"Number is {number}\")\n",
    "    number = random.randint(1, 5)"
   ]
  },
  {
   "cell_type": "markdown",
   "id": "11040641-07cc-4dc6-82c5-95ed5bce6647",
   "metadata": {},
   "source": [
    "### Dictionaries\n",
    "\n",
    "A dictionary is a collection of items in key-value pairs:"
   ]
  },
  {
   "cell_type": "code",
   "execution_count": null,
   "id": "d8dd6057-a5c5-4a8c-8a92-2eec4998d052",
   "metadata": {},
   "outputs": [],
   "source": [
    "my_dict = {\n",
    "    'course': 'Downstream',\n",
    "    'ECTS': 2,\n",
    "    'exam': False,\n",
    "    'evaluation': 'report',\n",
    "}"
   ]
  },
  {
   "cell_type": "code",
   "execution_count": null,
   "id": "bc068cb9-c84d-4ff0-bdfa-28415484bc1b",
   "metadata": {},
   "outputs": [],
   "source": [
    "my_dict"
   ]
  },
  {
   "cell_type": "markdown",
   "id": "b05251d0-362c-4cf1-8b1a-248c71518338",
   "metadata": {},
   "source": [
    "Here, *course, ECTS, exam, evalution* are keys, and each of them has a corresponding value."
   ]
  },
  {
   "cell_type": "markdown",
   "id": "14533bd5-9a85-4367-a75f-9d13c47467b9",
   "metadata": {},
   "source": [
    "We can access a value by key:"
   ]
  },
  {
   "cell_type": "code",
   "execution_count": null,
   "id": "279535ae-ad8a-497d-87d4-0d9d0a547525",
   "metadata": {},
   "outputs": [],
   "source": [
    "my_dict['course']"
   ]
  },
  {
   "cell_type": "markdown",
   "id": "d4e8f23c-a3c3-41dc-baa2-ada415a16f32",
   "metadata": {},
   "source": [
    "Here are some common dictionary operations:"
   ]
  },
  {
   "cell_type": "code",
   "execution_count": null,
   "id": "f3ceb5bb-8711-40a2-ae5e-3061806b68c9",
   "metadata": {},
   "outputs": [],
   "source": [
    "len(my_dict) # number of key-value pairs"
   ]
  },
  {
   "cell_type": "code",
   "execution_count": null,
   "id": "76b93124-c7bd-4dd0-a75b-ca01afac10dc",
   "metadata": {},
   "outputs": [],
   "source": [
    "'ECTS' in my_dict # checks for membership"
   ]
  },
  {
   "cell_type": "code",
   "execution_count": null,
   "id": "13584d7d-3f9d-422f-9f10-696955b3c6d2",
   "metadata": {},
   "outputs": [],
   "source": [
    "for key in my_dict: # iteration through keys\n",
    "    print(key)"
   ]
  },
  {
   "cell_type": "code",
   "execution_count": null,
   "id": "21781d02-9bbb-4645-af1d-edc1a56bbe20",
   "metadata": {},
   "outputs": [],
   "source": [
    "for key in my_dict:\n",
    "    print(key, my_dict[key]) # same but now printing both keys and values"
   ]
  },
  {
   "cell_type": "code",
   "execution_count": null,
   "id": "abcd78ba-cc73-47b5-a396-d74f0da462cd",
   "metadata": {},
   "outputs": [],
   "source": [
    "my_dict.items() # all key-value pairs as tuples"
   ]
  },
  {
   "cell_type": "code",
   "execution_count": null,
   "id": "62690883-9c1f-4dc3-8ccd-d1a72f47f2b0",
   "metadata": {},
   "outputs": [],
   "source": [
    "my_dict.keys() # all keys in a list"
   ]
  },
  {
   "cell_type": "code",
   "execution_count": null,
   "id": "09f0ddb4-d661-4ffb-951d-bf11068594fd",
   "metadata": {},
   "outputs": [],
   "source": [
    "my_dict.values() # all values in a list"
   ]
  },
  {
   "cell_type": "code",
   "execution_count": null,
   "id": "24e90952-c830-498b-8c17-7c828fbea287",
   "metadata": {},
   "outputs": [],
   "source": [
    "my_dict['program'] = 'Space Studies' # adding a new key-value pair\n",
    "my_dict"
   ]
  },
  {
   "cell_type": "markdown",
   "id": "a3e0bfdd-0d4e-4d77-91b7-100e97bfe333",
   "metadata": {},
   "source": [
    "### Functions\n",
    "\n",
    "Functions are a way to decompose a problem. In functional programming, a problem is broken down into a number of functions, which can be reused."
   ]
  },
  {
   "cell_type": "markdown",
   "id": "55238411-503f-403b-ab48-b10502001a70",
   "metadata": {},
   "source": [
    "We have already seen some functions, for example:"
   ]
  },
  {
   "cell_type": "code",
   "execution_count": null,
   "id": "ceb4bbe0-1b69-4f10-add6-6e139b6610e1",
   "metadata": {},
   "outputs": [],
   "source": [
    "type(my_dict)"
   ]
  },
  {
   "cell_type": "markdown",
   "id": "4aa23b76-41f8-42fe-8b7c-c50ef5847d41",
   "metadata": {},
   "source": [
    "But we can also define our own function like this:"
   ]
  },
  {
   "cell_type": "code",
   "execution_count": null,
   "id": "fc466ced-72d4-4bc0-9bc1-b0ebf9413bed",
   "metadata": {},
   "outputs": [],
   "source": [
    "def celsius_to_fahrenheit(celsius_float): # def keyword is followed by a name of the function with arguments in ()\n",
    "    return celsius_float * 1.8 + 32 # return keyword is followed by what a function will return"
   ]
  },
  {
   "cell_type": "markdown",
   "id": "be6201a7-d6c9-4623-b7c6-7ede8ab7d45a",
   "metadata": {},
   "source": [
    "Nothing happened - why? This is because we only defined a function but have not called it yet. Let's do it:"
   ]
  },
  {
   "cell_type": "code",
   "execution_count": null,
   "id": "981e962b-a276-4f1a-aced-1774bdf35ead",
   "metadata": {},
   "outputs": [],
   "source": [
    "celsius_to_fahrenheit(10)"
   ]
  },
  {
   "cell_type": "markdown",
   "id": "108d72d4-2be9-4c2f-96b2-6406fc46c0ea",
   "metadata": {},
   "source": [
    "We can save the output in a variable:"
   ]
  },
  {
   "cell_type": "code",
   "execution_count": null,
   "id": "e11c0265-f9d9-4229-b82a-6ecb89ab4687",
   "metadata": {},
   "outputs": [],
   "source": [
    "result = celsius_to_fahrenheit(0)\n",
    "result"
   ]
  },
  {
   "cell_type": "markdown",
   "id": "eecbd299-471e-44a2-a252-41421e15442d",
   "metadata": {},
   "source": [
    "Let's define some more functions:"
   ]
  },
  {
   "cell_type": "code",
   "execution_count": null,
   "id": "f3a9fd8a-d716-427e-b482-2716f58605f0",
   "metadata": {},
   "outputs": [],
   "source": [
    "def greet(name, age):\n",
    "    print(f'Hello, {name}! You are {age} years old.')"
   ]
  },
  {
   "cell_type": "code",
   "execution_count": null,
   "id": "ff946dd4-2390-4ca5-afda-50f3c48a80a8",
   "metadata": {},
   "outputs": [],
   "source": [
    "greet('Nik', 26) # here we use positional arguments -> we pass the arguments in the order we have defined the function"
   ]
  },
  {
   "cell_type": "code",
   "execution_count": null,
   "id": "0a0d3495-7e2a-4109-8c31-5548e9f9c928",
   "metadata": {},
   "outputs": [],
   "source": [
    "greet(age=26, name='Nik') # here we use keyword arguments -> we pass the arguments in a key-value pair"
   ]
  },
  {
   "cell_type": "code",
   "execution_count": null,
   "id": "bff6153e-3b8c-4b3f-abca-56b3df1a6181",
   "metadata": {},
   "outputs": [],
   "source": [
    "def make_pizza(size='medium', topping='cheese'): # this function has default values that will be called when no argumanets are passed\n",
    "    print(f'Making a {size} pizza with {topping}.')"
   ]
  },
  {
   "cell_type": "code",
   "execution_count": null,
   "id": "fac278a2-aaae-47ba-a173-d123df59b3a0",
   "metadata": {},
   "outputs": [],
   "source": [
    "make_pizza()"
   ]
  },
  {
   "cell_type": "code",
   "execution_count": null,
   "id": "437682f5-29af-402e-88b4-4ec86eeecff7",
   "metadata": {},
   "outputs": [],
   "source": [
    "make_pizza(size='small') # this will call it with a non-default value for size"
   ]
  },
  {
   "cell_type": "code",
   "execution_count": null,
   "id": "8b86b6fc-0430-4e8e-9909-02f50119a006",
   "metadata": {},
   "outputs": [],
   "source": [
    "make_pizza(size='large', topping='sausage') # this will call it with non-default values for both arguments"
   ]
  },
  {
   "cell_type": "code",
   "execution_count": null,
   "id": "c030bdb8-ecc2-4916-97f4-a6d77c481c08",
   "metadata": {},
   "outputs": [],
   "source": [
    "def calculate_sum(*numbers): # this function uses variable-length positional arguments -> everything we pass will be collected in a tuple\n",
    "    total = sum(numbers)\n",
    "    print(f'The sum is {total}.')"
   ]
  },
  {
   "cell_type": "code",
   "execution_count": null,
   "id": "9c8a9e62-1bde-493e-9b13-b0507d94923f",
   "metadata": {},
   "outputs": [],
   "source": [
    "calculate_sum(1, 2, 3, 4, 5)"
   ]
  },
  {
   "cell_type": "code",
   "execution_count": null,
   "id": "ca0d006c-850f-4cb8-9611-898c0ae46939",
   "metadata": {},
   "outputs": [],
   "source": [
    "def display_profile(**profile): # this function uses variable-length keyword arguments\n",
    "    for key, value in profile.items(): # -> everything we pass will be made into key-value pairs in a dictionary\n",
    "        print(f'{key}: {value}')"
   ]
  },
  {
   "cell_type": "code",
   "execution_count": null,
   "id": "be09fe2a-ecc1-477d-8292-0c7a3c125cb2",
   "metadata": {},
   "outputs": [],
   "source": [
    "display_profile(name='Nik', age=26, profession='researcher')"
   ]
  },
  {
   "cell_type": "markdown",
   "id": "db8d0ac8-6194-4079-b0c6-8832a9ca1efe",
   "metadata": {},
   "source": [
    "What we had above is a function without a return statement - this is called a process. Here is another example:"
   ]
  },
  {
   "cell_type": "code",
   "execution_count": null,
   "id": "a20e2963-1e7f-45a0-ac6e-37e37df881c5",
   "metadata": {},
   "outputs": [],
   "source": [
    "def study_for_exam():\n",
    "    '''\n",
    "    To help other people (and you!) to read your code, you can add comments to functions surrounded by tripple quotation marks.\n",
    "    '''\n",
    "    print('Rewatch recordings.')\n",
    "    print('Read notes.')\n",
    "    print('Solve problems.')"
   ]
  },
  {
   "cell_type": "code",
   "execution_count": null,
   "id": "3472f7c2-b276-4f53-b45e-4449a5b3d8b8",
   "metadata": {},
   "outputs": [],
   "source": [
    "study_for_exam()"
   ]
  },
  {
   "cell_type": "markdown",
   "id": "08f69a66-2e5d-49de-bcbb-7c9ef4e50577",
   "metadata": {},
   "source": [
    "When you need a small function that you are not planning on reusing, you can have a lambda (anonymous function).\n",
    "\n",
    "It is defined as follows:\n",
    "*lambda arguments: expression*"
   ]
  },
  {
   "cell_type": "code",
   "execution_count": null,
   "id": "417b8899-7b57-428e-8537-9a98e0002db9",
   "metadata": {},
   "outputs": [],
   "source": [
    "square = lambda x: x ** 2 # x is an argument, and the expression (result) is x**2\n",
    "print(square(5))"
   ]
  },
  {
   "cell_type": "code",
   "execution_count": null,
   "id": "63f2de65-3456-491c-95e3-50aa5c9732a1",
   "metadata": {},
   "outputs": [],
   "source": [
    "add = lambda x, y: x + y # multiple arguments\n",
    "print(add(3, 7))"
   ]
  },
  {
   "cell_type": "code",
   "execution_count": null,
   "id": "635140e0-4e36-4f4f-a975-0775736e8f14",
   "metadata": {},
   "outputs": [],
   "source": [
    "is_even = lambda x: 'Even' if x % 2 == 0 else 'Odd' # expression is a compact if-else statement\n",
    "print(is_even(4))"
   ]
  },
  {
   "cell_type": "markdown",
   "id": "5dcd9c56-13f8-40ec-aad1-128dac1b47d7",
   "metadata": {},
   "source": [
    "You don't have to be able to write lambda expressions for this course but it's a nice concept to know :)"
   ]
  },
  {
   "cell_type": "markdown",
   "id": "069f5725-e62b-4fc5-bee9-65c4f2b6b135",
   "metadata": {},
   "source": [
    "### Exercises\n",
    "\n",
    "Below are 5 exercises in order of increasing difficulty for the topics covered above:"
   ]
  },
  {
   "cell_type": "markdown",
   "id": "f23518a5-32d2-4337-a12e-0bd01f95185d",
   "metadata": {},
   "source": [
    "#### 1.1. for-loops\n",
    "\n",
    "Create an empty list. Use a for-loop to add numbers from 1 to 10 for it. Write another for-loop that print 'Even' for even numbers and 'Odd' for odd numbers but breaks when you get to number 7."
   ]
  },
  {
   "cell_type": "code",
   "execution_count": null,
   "id": "69a952d7-64e9-4811-a954-40d7f65cc3f8",
   "metadata": {},
   "outputs": [],
   "source": [
    "# create an empty list"
   ]
  },
  {
   "cell_type": "code",
   "execution_count": null,
   "id": "7d004c7f-93f8-4701-99ef-6ff41af82752",
   "metadata": {},
   "outputs": [],
   "source": [
    "# populate a list "
   ]
  },
  {
   "cell_type": "code",
   "execution_count": null,
   "id": "c32d3709-c28e-4bb4-96a6-b98870e02b7c",
   "metadata": {},
   "outputs": [],
   "source": [
    "# print even/odd"
   ]
  },
  {
   "cell_type": "markdown",
   "id": "dd37d8f4-c3bc-40ae-876c-5a1eebf5358d",
   "metadata": {},
   "source": [
    "#### 1.2. while-loops\n",
    "\n",
    "Write a while loop that simulates a dice roll until a 6 is rolled. Use Python’s random.randint to generate random numbers between 1 and 6. Print each dice roll and stop once you roll a 6."
   ]
  },
  {
   "cell_type": "code",
   "execution_count": null,
   "id": "cfbadfa2-f7dd-4f77-b8b4-44fc5d4a56b2",
   "metadata": {},
   "outputs": [],
   "source": [
    "# import a needed module"
   ]
  },
  {
   "cell_type": "code",
   "execution_count": null,
   "id": "d3ec4c03-0c48-48e2-b41e-7c6a3475a0c4",
   "metadata": {},
   "outputs": [],
   "source": [
    "# initialize a variable to store a current roll as 0"
   ]
  },
  {
   "cell_type": "code",
   "execution_count": null,
   "id": "b717f48a-6a67-4c54-9896-513205832cb1",
   "metadata": {},
   "outputs": [],
   "source": [
    "# while loop"
   ]
  },
  {
   "cell_type": "markdown",
   "id": "d50aa76b-1132-4c9b-b103-bfea0b6328ee",
   "metadata": {},
   "source": [
    "#### 1.3. List operations\n",
    "\n",
    "Check whether a nested list below has a letter 'a' as an element (hint: take a look at isinstance()):"
   ]
  },
  {
   "cell_type": "code",
   "execution_count": null,
   "id": "f69e1ed7-4c07-4318-924a-0becdcf7e2f3",
   "metadata": {},
   "outputs": [],
   "source": [
    "nested_list = [1, 2, ['b', 'c'], [4, [5, 'a']]]"
   ]
  },
  {
   "cell_type": "code",
   "execution_count": null,
   "id": "66ab5b96-fbdd-4ccf-9fd7-4fa444b28e2b",
   "metadata": {},
   "outputs": [],
   "source": [
    "# check"
   ]
  },
  {
   "cell_type": "markdown",
   "id": "2959fc59-ed06-4d12-9708-316f665fd72a",
   "metadata": {},
   "source": [
    "#### 1.4. Dictionaries\n",
    "\n",
    "Count the number of times each letter is used in a string below using a dicrionary (hint: tale a look at isalpha()):"
   ]
  },
  {
   "cell_type": "code",
   "execution_count": null,
   "id": "518ce697-b413-40fa-90a5-35b554428e1e",
   "metadata": {},
   "outputs": [],
   "source": [
    "string = 'this is a string we will be using'"
   ]
  },
  {
   "cell_type": "code",
   "execution_count": null,
   "id": "c354dc41-6362-4db7-a65d-752e7a6fdec7",
   "metadata": {},
   "outputs": [],
   "source": [
    "word_count_dict = {}"
   ]
  },
  {
   "cell_type": "code",
   "execution_count": null,
   "id": "5884d2d8-fa7d-44cc-a309-21eaa734d458",
   "metadata": {},
   "outputs": [],
   "source": [
    "# count"
   ]
  },
  {
   "cell_type": "markdown",
   "id": "f621b197-6a93-4c60-b625-1f01e78f8f42",
   "metadata": {},
   "source": [
    "#### 1.5. Functions\n",
    "\n",
    "Define the following functions:\n",
    "* generate_sequence(n): Takes an integer n as input and returns a list of the first n positive integers.\n",
    "* filter_even_numbers(sequence): Takes a list of numbers as input and returns a new list containing only the even numbers from the input list.\n",
    "* calculate_sum_of_squares(even_numbers): Takes a list of even numbers as input and returns the sum of their squares.\n",
    "* process_sequence(n): Combines all three functions: by calling generate_sequence(n) to create the initial list, passing the result to filter_even_numbers to filter out odd numbers, then passing the filtered result to calculate_sum_of_squares to calculate the sum of squares of the even numbers, and returning the final sum."
   ]
  },
  {
   "cell_type": "code",
   "execution_count": null,
   "id": "6495579b-4b94-40f7-9294-f08bb24aaf58",
   "metadata": {},
   "outputs": [],
   "source": [
    "# generating a sequence"
   ]
  },
  {
   "cell_type": "code",
   "execution_count": null,
   "id": "315c5e68-7d02-45e0-87c3-cc535db09738",
   "metadata": {},
   "outputs": [],
   "source": [
    "# filtering out even numbers"
   ]
  },
  {
   "cell_type": "code",
   "execution_count": null,
   "id": "2437e900-9972-4ffe-b8e5-cb8f36da3ab1",
   "metadata": {},
   "outputs": [],
   "source": [
    "# calculating a sum of squares"
   ]
  },
  {
   "cell_type": "code",
   "execution_count": null,
   "id": "088406f8-40b7-4cc6-878d-57899e601860",
   "metadata": {},
   "outputs": [],
   "source": [
    "# combining all of them"
   ]
  },
  {
   "cell_type": "markdown",
   "id": "b8f4cb42-2773-4ec6-a6ad-21fda3c0cfa7",
   "metadata": {
    "jp-MarkdownHeadingCollapsed": true
   },
   "source": [
    "### Solutions\n",
    "\n",
    "Below are the solutions with comments to the exercises from above:"
   ]
  },
  {
   "cell_type": "markdown",
   "id": "16d680d3-da7c-44e2-a1fe-950e236aa62c",
   "metadata": {
    "jp-MarkdownHeadingCollapsed": true
   },
   "source": [
    "#### 1.1. for-loops"
   ]
  },
  {
   "cell_type": "code",
   "execution_count": null,
   "id": "835b5931-99a3-42ee-ab4d-1cc2dd2ff350",
   "metadata": {},
   "outputs": [],
   "source": [
    "# create an empty list\n",
    "numbers = []"
   ]
  },
  {
   "cell_type": "code",
   "execution_count": null,
   "id": "ba8aaf50-8575-4951-b719-8f83e6cce7cf",
   "metadata": {},
   "outputs": [],
   "source": [
    "# populate a list \n",
    "for i in range(1, 11):\n",
    "    numbers.append(i)"
   ]
  },
  {
   "cell_type": "code",
   "execution_count": null,
   "id": "6b3a3774-b3bb-4b2e-8710-a8a10f49e8d9",
   "metadata": {},
   "outputs": [],
   "source": [
    "numbers"
   ]
  },
  {
   "cell_type": "code",
   "execution_count": null,
   "id": "f13ce3c2-0018-48a5-bc3c-72759524158d",
   "metadata": {},
   "outputs": [],
   "source": [
    "# print even/odd\n",
    "for num in numbers:\n",
    "    if num % 2 == 0: # when a modulo equals to 0, the number is even\n",
    "        print(f'{num}: Even')\n",
    "    else:\n",
    "        print(f'{num}: Odd')\n",
    "    \n",
    "    if num == 7:  # breaking at 7\n",
    "        break"
   ]
  },
  {
   "cell_type": "markdown",
   "id": "695049b7-7a30-48e9-8cba-c400645f7728",
   "metadata": {
    "jp-MarkdownHeadingCollapsed": true
   },
   "source": [
    "#### 1.2. while-loops"
   ]
  },
  {
   "cell_type": "code",
   "execution_count": null,
   "id": "a88e8503-37c0-4c5c-9265-6af926c54dff",
   "metadata": {},
   "outputs": [],
   "source": [
    "# import a needed module\n",
    "import random"
   ]
  },
  {
   "cell_type": "code",
   "execution_count": null,
   "id": "231f3a8e-25ea-4d1f-ba30-54d8b6b6aef6",
   "metadata": {},
   "outputs": [],
   "source": [
    "# initialize a variable to store a current roll as 0\n",
    "dice_roll = 0"
   ]
  },
  {
   "cell_type": "code",
   "execution_count": null,
   "id": "1453502d-114d-4490-94b1-ed601d2c59ca",
   "metadata": {},
   "outputs": [],
   "source": [
    "# while loop\n",
    "while dice_roll != 6: # condition that the roll is not 6\n",
    "    dice_roll = random.randint(1, 6)  # roll the dice\n",
    "    print(f'Dice rolled: {dice_roll}')"
   ]
  },
  {
   "cell_type": "markdown",
   "id": "81c27ff2-6c43-4e62-b73a-dbf6b290bd2c",
   "metadata": {
    "jp-MarkdownHeadingCollapsed": true
   },
   "source": [
    "#### 1.3. List operations"
   ]
  },
  {
   "cell_type": "code",
   "execution_count": null,
   "id": "d52aa792-87c2-4fd0-90af-4ae44175c397",
   "metadata": {},
   "outputs": [],
   "source": [
    "def contains_a(nested_list):\n",
    "    for element in nested_list:\n",
    "        if isinstance(element, list):  # check if the element is a list\n",
    "            if contains_a(element):  # recursively check the nested list\n",
    "                return True\n",
    "        elif element == 'a':  # check if the element is 'a'\n",
    "            return True\n",
    "    return False"
   ]
  },
  {
   "cell_type": "code",
   "execution_count": null,
   "id": "e159d6d2-0770-473b-b8f6-bff7db5b4a54",
   "metadata": {},
   "outputs": [],
   "source": [
    "nested_list = [1, 2, ['b', 'c'], [4, [5, 'a']]]"
   ]
  },
  {
   "cell_type": "code",
   "execution_count": null,
   "id": "13b4d05c-2101-4ba3-bccb-ce6df5b509fb",
   "metadata": {},
   "outputs": [],
   "source": [
    "contains_a(nested_list)"
   ]
  },
  {
   "cell_type": "code",
   "execution_count": null,
   "id": "3963e5d3-fd06-4b8d-8fdf-c83032549d7e",
   "metadata": {},
   "outputs": [],
   "source": [
    "nested_list_2 = [1, 2, ['b', 'c'], [4, [5, 'd']]]\n",
    "contains_a(nested_list_2)"
   ]
  },
  {
   "cell_type": "markdown",
   "id": "52a5888b-d7fc-42e7-8734-a35650ad7b94",
   "metadata": {
    "jp-MarkdownHeadingCollapsed": true
   },
   "source": [
    "#### 1.4. Dictionaries"
   ]
  },
  {
   "cell_type": "code",
   "execution_count": null,
   "id": "84c5296a-b31e-4f11-804f-0a733b9f0ac4",
   "metadata": {},
   "outputs": [],
   "source": [
    "for char in string:\n",
    "    if char.isalpha():  # only consider alphabetic characters\n",
    "        if char in word_count_dict:\n",
    "            word_count_dict[char] += 1  # increment the count if the character is already in the dictionary\n",
    "        else:\n",
    "            word_count_dict[char] = 1  # initialize the count if the character is not in the dictionary\n",
    "\n",
    "print(word_count_dict)"
   ]
  },
  {
   "cell_type": "markdown",
   "id": "cf63fcb5-1eeb-4afa-b54a-429a03eab035",
   "metadata": {
    "jp-MarkdownHeadingCollapsed": true
   },
   "source": [
    "#### 1.5. Functions"
   ]
  },
  {
   "cell_type": "code",
   "execution_count": null,
   "id": "5323b5a8-d187-4134-b33f-4c727e28f11b",
   "metadata": {},
   "outputs": [],
   "source": [
    "def generate_sequence(n):\n",
    "    '''\n",
    "    Generates a sequence of the first n positive integers.\n",
    "    '''\n",
    "    return list(range(1, n + 1))"
   ]
  },
  {
   "cell_type": "code",
   "execution_count": null,
   "id": "59a73bcd-2191-4d9f-b929-4f609267d6d3",
   "metadata": {},
   "outputs": [],
   "source": [
    "test1 = generate_sequence(5)\n",
    "test1"
   ]
  },
  {
   "cell_type": "code",
   "execution_count": null,
   "id": "dbf0b5d5-aaa2-4dfe-87f9-48f62305a0d5",
   "metadata": {},
   "outputs": [],
   "source": [
    "def filter_even_numbers(sequence):\n",
    "    '''\n",
    "    Filters and returns only the even numbers from the input list.\n",
    "    '''\n",
    "    even_numbers = []\n",
    "    for num in sequence:\n",
    "        if num % 2 == 0:\n",
    "            even_numbers.append(num)\n",
    "    return even_numbers"
   ]
  },
  {
   "cell_type": "code",
   "execution_count": null,
   "id": "1853cf68-452b-446a-bf06-253ac4d939eb",
   "metadata": {},
   "outputs": [],
   "source": [
    "test2 = filter_even_numbers(test1)\n",
    "test2"
   ]
  },
  {
   "cell_type": "markdown",
   "id": "c741b445-c3d3-4f66-a48d-dd55863f49e0",
   "metadata": {},
   "source": [
    "Another way to do this is with list comprehension, using a formula *element for element in collection if ...*:"
   ]
  },
  {
   "cell_type": "code",
   "execution_count": null,
   "id": "7ad2136c-7202-4e39-922f-e71a492f3610",
   "metadata": {},
   "outputs": [],
   "source": [
    "def filter_even_numbers2(sequence):\n",
    "    '''\n",
    "    Filters and returns only the even numbers from the input list.\n",
    "    '''\n",
    "    return [num for num in sequence if num % 2 == 0] # if you put the return in [] it will create a list"
   ]
  },
  {
   "cell_type": "code",
   "execution_count": null,
   "id": "c9e86b33-1f3d-4a47-8f4a-785ca7eba7d2",
   "metadata": {},
   "outputs": [],
   "source": [
    "test21 = filter_even_numbers2(test1)\n",
    "test21"
   ]
  },
  {
   "cell_type": "code",
   "execution_count": null,
   "id": "f7c6d92d-3fc2-445c-94df-5fa389def6e7",
   "metadata": {},
   "outputs": [],
   "source": [
    "def calculate_sum_of_squares(even_numbers):\n",
    "    '''\n",
    "    Calculates and returns the sum of squares of the even numbers.\n",
    "    '''\n",
    "    total = 0\n",
    "    for num in even_numbers:\n",
    "        total += num ** 2\n",
    "    return total"
   ]
  },
  {
   "cell_type": "code",
   "execution_count": null,
   "id": "c07b3a23-e5c6-4435-9bb6-21b379bed886",
   "metadata": {},
   "outputs": [],
   "source": [
    "test3 = calculate_sum_of_squares(test2)\n",
    "test3"
   ]
  },
  {
   "cell_type": "markdown",
   "id": "70cffb53-914c-4d41-9bb2-02185d119e2c",
   "metadata": {},
   "source": [
    "This can also be done with list comprehension but this time we do not need an if-statement:"
   ]
  },
  {
   "cell_type": "code",
   "execution_count": null,
   "id": "0897eea0-0d53-4823-b727-1f54e1e11a4f",
   "metadata": {},
   "outputs": [],
   "source": [
    "def calculate_sum_of_squares2(even_numbers):\n",
    "    '''\n",
    "    Calculates and returns the sum of squares of the even numbers.\n",
    "    '''\n",
    "    return sum(num ** 2 for num in even_numbers)"
   ]
  },
  {
   "cell_type": "code",
   "execution_count": null,
   "id": "6a0acb26-408d-4597-86b3-a2e20ca0d277",
   "metadata": {},
   "outputs": [],
   "source": [
    "test31 = calculate_sum_of_squares(test2)\n",
    "test31"
   ]
  },
  {
   "cell_type": "code",
   "execution_count": null,
   "id": "a36268b5-48fd-4530-a02a-c8fbab85a21d",
   "metadata": {},
   "outputs": [],
   "source": [
    "def process_sequence(n):\n",
    "    '''\n",
    "    Combines all three functions to:\n",
    "    1. Generate a sequence of the first n positive integers.\n",
    "    2. Filter out only the even numbers from the sequence.\n",
    "    3. Calculate the sum of squares of the even numbers.\n",
    "    '''\n",
    "    sequence = generate_sequence(n)\n",
    "    even_numbers = filter_even_numbers(sequence)\n",
    "    return calculate_sum_of_squares(even_numbers)"
   ]
  },
  {
   "cell_type": "code",
   "execution_count": null,
   "id": "dcf1b42c-1754-40f8-9f72-f1c9435c69d0",
   "metadata": {},
   "outputs": [],
   "source": [
    "test5 = process_sequence(5)\n",
    "test5"
   ]
  }
 ],
 "metadata": {
  "kernelspec": {
   "display_name": "Python 3 (ipykernel)",
   "language": "python",
   "name": "python3"
  },
  "language_info": {
   "codemirror_mode": {
    "name": "ipython",
    "version": 3
   },
   "file_extension": ".py",
   "mimetype": "text/x-python",
   "name": "python",
   "nbconvert_exporter": "python",
   "pygments_lexer": "ipython3",
   "version": "3.12.7"
  }
 },
 "nbformat": 4,
 "nbformat_minor": 5
}
