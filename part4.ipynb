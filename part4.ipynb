{
 "cells": [
  {
   "cell_type": "markdown",
   "id": "d2440ac7-0aae-4c08-8d6c-aa794c5a2b2b",
   "metadata": {},
   "source": [
    "# Downstream Exploitation of Space Data\n",
    "## Python Crash Course Part 4: Fits and Databases\n",
    "\n",
    "### Learning Objectives\n",
    "\n",
    "You will: \n",
    "* know what a .fits file is and how to open it\n",
    "* know how to query objects with Lightkurve\n",
    "* be able to download light curves from Lightkurve and MAST\n",
    "\n",
    "There are no exercises in this part as it is covered by sessions 1, 2, and 5."
   ]
  },
  {
   "cell_type": "markdown",
   "id": "354ff62d-a986-4053-9eb7-3f0b3ceed849",
   "metadata": {},
   "source": [
    "### fits files\n",
    "\n",
    "Working with .fits files (Flexible Image Transport System) is common in astronomy. Working with them in Python is very convenient thanks to the astropy library. Documentation for it is available here: https://docs.astropy.org/en/stable/"
   ]
  },
  {
   "cell_type": "markdown",
   "id": "7f4d171b-167c-460e-b2e7-df47417b368c",
   "metadata": {},
   "source": [
    "Let's import the astropy library:"
   ]
  },
  {
   "cell_type": "code",
   "execution_count": null,
   "id": "17d2ce81-f606-489d-8fdd-fc8400cb162e",
   "metadata": {},
   "outputs": [],
   "source": [
    "from astropy.io import fits # we only import part we need, not the entire library"
   ]
  },
  {
   "cell_type": "code",
   "execution_count": null,
   "id": "52f3dd28-c8a5-41d8-9c7d-7af5ca141ad9",
   "metadata": {},
   "outputs": [],
   "source": [
    "# opening the fits file\n",
    "fits_file = 'hlsp_qlp_tess_ffi_s0055-0000000027768398_tess_v01_llc.fits' # this fits file is a TESS observation\n",
    "hdul = fits.open(fits_file)"
   ]
  },
  {
   "cell_type": "code",
   "execution_count": null,
   "id": "4e7df48a-d6a7-4d91-a9d7-69affe53eeed",
   "metadata": {},
   "outputs": [],
   "source": [
    "# printing information about the file\n",
    "hdul.info()"
   ]
  },
  {
   "cell_type": "code",
   "execution_count": null,
   "id": "fe9cd6a4-fb76-48db-b98d-71fecad32798",
   "metadata": {},
   "outputs": [],
   "source": [
    "# exploring header of the file\n",
    "hdul[0].header"
   ]
  },
  {
   "cell_type": "code",
   "execution_count": null,
   "id": "4c0bb73c-aca6-4f56-9c46-50fee7170c84",
   "metadata": {},
   "outputs": [],
   "source": [
    "# exploring data of the file\n",
    "data = hdul[1].data\n",
    "data"
   ]
  },
  {
   "cell_type": "code",
   "execution_count": null,
   "id": "cdcde6e4-21c3-4705-80fe-d6976cc950c7",
   "metadata": {},
   "outputs": [],
   "source": [
    "# closing the file after use\n",
    "hdul.close()"
   ]
  },
  {
   "cell_type": "markdown",
   "id": "1d8e843f-0d59-4a6a-a12d-440b2f9a1754",
   "metadata": {},
   "source": [
    "Let's plot the data:"
   ]
  },
  {
   "cell_type": "code",
   "execution_count": null,
   "id": "0c56dbaa-bf09-464e-a2eb-72d9c18739bb",
   "metadata": {},
   "outputs": [],
   "source": [
    "import numpy as np # a math library\n",
    "import matplotlib.pyplot as plt"
   ]
  },
  {
   "cell_type": "code",
   "execution_count": null,
   "id": "035f777f-d6f7-465f-a31b-7376bdba4121",
   "metadata": {},
   "outputs": [],
   "source": [
    "with fits.open(fits_file, memmap=False) as hdul: # nevermind this for now, we will talk about it during session 5\n",
    "    data = hdul[1].data\n",
    "    time = data['TIME']\n",
    "    flux = data['SAP_FLUX']\n",
    "            \n",
    "    flux_mean = np.mean(flux)\n",
    "    flux_std = np.std(flux)\n",
    "    \n",
    "    time_no_outl = time[np.abs(flux - flux_mean) < 10 * flux_std]\n",
    "    flux_no_outl = flux[np.abs(flux - flux_mean) < 10 * flux_std]"
   ]
  },
  {
   "cell_type": "code",
   "execution_count": null,
   "id": "ba282992-488c-495e-88da-d3a3a928edc2",
   "metadata": {},
   "outputs": [],
   "source": [
    "fig, ax = plt.subplots(figsize=(10, 3))\n",
    "    \n",
    "ax.plot(time_no_outl, flux_no_outl, color='black', linewidth=0.5)\n",
    "ax.set_xlabel('Time [d]', fontsize=12)\n",
    "ax.set_ylabel('Normalized Flux', fontsize=12)\n",
    "\n",
    "plt.tight_layout()"
   ]
  },
  {
   "cell_type": "markdown",
   "id": "4f50a59b-f677-45c5-b574-d7fc9354281b",
   "metadata": {},
   "source": [
    "This .fits file contained a light curve (see notes for the SSE course) of a single star, which is very different from the content of the .fits file we have opened during session 1."
   ]
  },
  {
   "cell_type": "markdown",
   "id": "9fea53f2-48ca-4774-8b19-6b52e761f5d6",
   "metadata": {},
   "source": [
    "### Lightkurve\n",
    "\n",
    "Another great astronomical library is lightkurve. It can do many things, of which the most basic one is querying astronomical objects."
   ]
  },
  {
   "cell_type": "markdown",
   "id": "c7bd5008-9f70-410c-b98e-c67d0e1f1247",
   "metadata": {},
   "source": [
    "As usual, we first import libraries:"
   ]
  },
  {
   "cell_type": "code",
   "execution_count": null,
   "id": "f3b52a2b-78ff-4251-95ce-a23f5bd3a86d",
   "metadata": {},
   "outputs": [],
   "source": [
    "import lightkurve as lk"
   ]
  },
  {
   "cell_type": "code",
   "execution_count": null,
   "id": "ac48669a-0533-4561-aafa-b67b35206264",
   "metadata": {},
   "outputs": [],
   "source": [
    "search = lk.search_lightcurve('TIC 320586229', author='QLP') #the first argument is the object we are looking for, the second is a science product\n",
    "search"
   ]
  },
  {
   "cell_type": "code",
   "execution_count": null,
   "id": "669d378c-464f-4eaa-99b4-5ed418ca0a94",
   "metadata": {},
   "outputs": [],
   "source": [
    "lc = search[1].download() # opening the second one (extended TESS mission starts from Sector 27 and data is better quality)\n",
    "lc"
   ]
  },
  {
   "cell_type": "code",
   "execution_count": null,
   "id": "9a056fc7-e637-43ff-97d5-19f44e5e05c2",
   "metadata": {},
   "outputs": [],
   "source": [
    "# two columns we are interested in\n",
    "time = lc['time'].value # note how here column names are not in capital\n",
    "flux = lc['sap_flux'].value"
   ]
  },
  {
   "cell_type": "markdown",
   "id": "51c5eebb-de34-4f88-a110-fc0fb2f3226a",
   "metadata": {},
   "source": [
    "Let's see how it looks:"
   ]
  },
  {
   "cell_type": "code",
   "execution_count": null,
   "id": "04bb2976-551c-438b-8175-984244631792",
   "metadata": {},
   "outputs": [],
   "source": [
    "fig, ax = plt.subplots(figsize=(10, 3))\n",
    "    \n",
    "ax.plot(time, flux, color='black', linewidth=0.5)\n",
    "ax.set_xlabel('Time [d]', fontsize=12)\n",
    "ax.set_ylabel('Normalized Flux', fontsize=12)\n",
    "\n",
    "plt.tight_layout()"
   ]
  },
  {
   "cell_type": "markdown",
   "id": "5e38fa0c-7522-4ed8-a9ff-97ae6efefe40",
   "metadata": {},
   "source": [
    "The light curve contains outliers, which prevent us from taking a good look. Let's remove them (more in session 5):"
   ]
  },
  {
   "cell_type": "code",
   "execution_count": null,
   "id": "9584d2f8-f591-463b-bb4b-1a5f4ad3b650",
   "metadata": {},
   "outputs": [],
   "source": [
    "quality_mask = lc.quality\n",
    "\n",
    "good_quality_mask = (quality_mask == 0)\n",
    "time1 = time[good_quality_mask]\n",
    "flux1 = flux[good_quality_mask]\n",
    "        \n",
    "flux_mean = np.mean(flux1)\n",
    "flux_std = np.std(flux1)\n",
    "    \n",
    "time_no_outl = time1[np.abs(flux1 - flux_mean) < 10 * flux_std]\n",
    "flux_no_outl = flux1[np.abs(flux1 - flux_mean) < 10 * flux_std]\n",
    "\n",
    "fig, ax = plt.subplots(figsize=(10, 3))\n",
    "    \n",
    "ax.plot(time_no_outl, flux_no_outl, color='black', linewidth=0.5)\n",
    "ax.set_xlabel('Time [d]', fontsize=12)\n",
    "ax.set_ylabel('Normalized Flux', fontsize=12)\n",
    "\n",
    "plt.tight_layout()"
   ]
  },
  {
   "cell_type": "markdown",
   "id": "2eaeb8a7-4ca4-42d4-b6cc-dc5af8ec3b59",
   "metadata": {},
   "source": [
    "We can also save it as a .fits file:"
   ]
  },
  {
   "cell_type": "code",
   "execution_count": null,
   "id": "1f74e5e7-e95c-4dea-a837-07da09dd62df",
   "metadata": {},
   "outputs": [],
   "source": [
    "lc = search[1].download(quality_bitmask='default', flux_column='sap_flux', download_dir='./test') \n",
    "# the dowload_dir argument will specify where the .fits file is saved"
   ]
  },
  {
   "cell_type": "markdown",
   "id": "61204d4a-c9b6-4413-9e2f-519ed6604d01",
   "metadata": {},
   "source": [
    "### MAST\n",
    "\n",
    "MAST is an astronomical data archive, which contains data from several space missions, including Hubble and TESS. We can use it to download data for multiple objects, in contrast to downloaing light curves one by one like we just did."
   ]
  },
  {
   "cell_type": "code",
   "execution_count": null,
   "id": "b5fa52ab-fb73-4d24-92a9-a8e8c60218ba",
   "metadata": {},
   "outputs": [],
   "source": [
    "from astroquery.mast import Observations"
   ]
  },
  {
   "cell_type": "code",
   "execution_count": null,
   "id": "146cd7f1-07b8-4556-884d-eb4cec954d41",
   "metadata": {},
   "outputs": [],
   "source": [
    "tic_ids = [320586229] # this would be a list of object IDs for TESS\n",
    "# for didactic purposes, there is just object in this list but you can include several (we will use it during session 5)"
   ]
  },
  {
   "cell_type": "code",
   "execution_count": null,
   "id": "7e9672d7-c68e-4640-8765-addd5cd7c455",
   "metadata": {},
   "outputs": [],
   "source": [
    "obsTable = Observations.query_criteria(provenance_name='QLP',\n",
    "                                       target_name=tic_ids)\n",
    "data = Observations.get_product_list(obsTable)\n",
    "download_lc = Observations.download_products(data)"
   ]
  },
  {
   "cell_type": "markdown",
   "id": "dd275f81-40fc-4f1f-adc5-ece1b4488d1d",
   "metadata": {},
   "source": [
    "This has downloaded all available TESS light curves for this object in a folder called mastDownload, you can check its contents to make sure."
   ]
  },
  {
   "cell_type": "markdown",
   "id": "c05f2b08-5534-4aa4-a1bc-a5283d6e5ff5",
   "metadata": {},
   "source": [
    "This is still impractical (and too slow) when downloading hundreds to millions of light curves, there are other ways to do that via MAST but we will not need it for this course :)"
   ]
  }
 ],
 "metadata": {
  "kernelspec": {
   "display_name": "Python 3 (ipykernel)",
   "language": "python",
   "name": "python3"
  },
  "language_info": {
   "codemirror_mode": {
    "name": "ipython",
    "version": 3
   },
   "file_extension": ".py",
   "mimetype": "text/x-python",
   "name": "python",
   "nbconvert_exporter": "python",
   "pygments_lexer": "ipython3",
   "version": "3.12.7"
  }
 },
 "nbformat": 4,
 "nbformat_minor": 5
}
