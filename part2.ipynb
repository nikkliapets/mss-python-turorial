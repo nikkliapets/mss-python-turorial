{
 "cells": [
  {
   "cell_type": "markdown",
   "id": "ae7b7371-6858-46c5-b522-bdd2b1462bbf",
   "metadata": {},
   "source": [
    "# Downstream Exploitation of Space Data\n",
    "## Python Crash Course Part 2: Data Analysis\n",
    "\n",
    "### Learning Objectives\n",
    "\n",
    "You will: \n",
    "* be able to read tabular data with pandas\n",
    "* know basic data analysis techniques"
   ]
  },
  {
   "cell_type": "markdown",
   "id": "945f2060-286c-477d-a476-86a43987ee8a",
   "metadata": {},
   "source": [
    "### pandas\n",
    "\n",
    "pandas is one of the most commonly-used Python libraries for data analysis. Documentation for it is available here: https://pandas.pydata.org\n",
    "\n",
    "Another library often used is polars, which is quicker and is better for large datasets. We will not be using it here though."
   ]
  },
  {
   "cell_type": "markdown",
   "id": "2bb2dc37-80d6-4b67-aabb-741b34ad1bc2",
   "metadata": {},
   "source": [
    "Let's import pandas:"
   ]
  },
  {
   "cell_type": "code",
   "execution_count": null,
   "id": "56f2ef30-0629-4cf4-a697-8386a386d3fb",
   "metadata": {},
   "outputs": [],
   "source": [
    "import pandas as pd # we can shorten the name of the library so that we don't have to type it in full every time"
   ]
  },
  {
   "cell_type": "markdown",
   "id": "35710fe8-8123-46b1-9d02-61bfadcec264",
   "metadata": {},
   "source": [
    "We will now read a .csv (comma separated value) file and save it into a variable:"
   ]
  },
  {
   "cell_type": "code",
   "execution_count": null,
   "id": "37815354-6e0f-495f-8370-b98c7bf12c96",
   "metadata": {},
   "outputs": [],
   "source": [
    "data = pd.read_csv('iris.csv') # if values in a file would have been separater by another symbol, we wouls also specify it\n",
    "# e.g. pd.read_csv('iris.csv', sep=';') if the separator is a semicolon (;)"
   ]
  },
  {
   "cell_type": "markdown",
   "id": "81505d3c-e813-4fe8-82ad-92bfecc01628",
   "metadata": {},
   "source": [
    "Let's get some information about our dataset:"
   ]
  },
  {
   "cell_type": "code",
   "execution_count": null,
   "id": "019a1935-17fe-4ff4-ae19-55255acfd003",
   "metadata": {},
   "outputs": [],
   "source": [
    "data.info()"
   ]
  },
  {
   "cell_type": "code",
   "execution_count": null,
   "id": "625b9e42-239d-4f46-ae76-0e928de39062",
   "metadata": {},
   "outputs": [],
   "source": [
    "data.head() # printing the first n rows of the dataframe (5 by default)"
   ]
  },
  {
   "cell_type": "code",
   "execution_count": null,
   "id": "1dc19086-27b3-4b2b-8bea-e3f28f8f3aed",
   "metadata": {},
   "outputs": [],
   "source": [
    "data.tail() # printint the last n rows of the dataframe (5 by default)"
   ]
  },
  {
   "cell_type": "code",
   "execution_count": null,
   "id": "6de2b276-e727-47c8-b7dd-7194e2154199",
   "metadata": {},
   "outputs": [],
   "source": [
    "data.shape"
   ]
  },
  {
   "cell_type": "code",
   "execution_count": null,
   "id": "7b123d6a-7d27-4ff5-8a79-87701347d749",
   "metadata": {},
   "outputs": [],
   "source": [
    "data.columns"
   ]
  },
  {
   "cell_type": "code",
   "execution_count": null,
   "id": "e2e80b9c-fad2-46b7-9630-0227094b1ea0",
   "metadata": {},
   "outputs": [],
   "source": [
    "data['variety'].unique() # getting unique values in our only column with strings"
   ]
  },
  {
   "cell_type": "code",
   "execution_count": null,
   "id": "cfca5c54-de76-437e-bb2f-32e8d29a307c",
   "metadata": {},
   "outputs": [],
   "source": [
    "data.describe() # getting some descriptive statistics about our numerical columns"
   ]
  },
  {
   "cell_type": "markdown",
   "id": "87c92f68-57bb-415e-b98b-bcbf79af351e",
   "metadata": {},
   "source": [
    "### Selecting data\n",
    "\n",
    "Sometimes (often), you will only need certain parts of the data and not all of it. We can select it as follows:"
   ]
  },
  {
   "cell_type": "code",
   "execution_count": null,
   "id": "c8987309-398b-4982-b3cf-6390e3d3a255",
   "metadata": {},
   "outputs": [],
   "source": [
    "petals = data[['petal.length', 'petal.width']] # selecting multiple columns\n",
    "petals.head()"
   ]
  },
  {
   "cell_type": "code",
   "execution_count": null,
   "id": "b5a22ecc-b834-49f8-b474-69023eee04b1",
   "metadata": {},
   "outputs": [],
   "source": [
    "variety = data['variety'] # selecting a single column\n",
    "variety.head()"
   ]
  },
  {
   "cell_type": "code",
   "execution_count": null,
   "id": "d9ff4d87-87ca-474f-87b1-4fad237e8437",
   "metadata": {},
   "outputs": [],
   "source": [
    "first_rows = data[0:5] # selecting the first 5 rows, not including index after :\n",
    "first_rows"
   ]
  },
  {
   "cell_type": "code",
   "execution_count": null,
   "id": "4b7ab10f-01cb-4a28-8907-a2ed7ae5b5e4",
   "metadata": {},
   "outputs": [],
   "source": [
    "first_rows1 = data.loc[0:5] # selecting the first 6 (!) rows, because .loc does label slicing, which is inclusive\n",
    "first_rows1"
   ]
  },
  {
   "cell_type": "code",
   "execution_count": null,
   "id": "3946b0e2-3ab8-45ae-9a68-10dab039f2e7",
   "metadata": {},
   "outputs": [],
   "source": [
    "row_100 = data.loc[100] # get row 100\n",
    "row_100"
   ]
  },
  {
   "cell_type": "code",
   "execution_count": null,
   "id": "88aea327-80ab-4daf-b2d2-f6555cad2e38",
   "metadata": {},
   "outputs": [],
   "source": [
    "rows_variety = data.loc[[50,100], 'variety'] # get variety of rows 50 and 100\n",
    "rows_variety"
   ]
  },
  {
   "cell_type": "markdown",
   "id": "bd1c4bb5-9b4f-426d-8255-b6b411005793",
   "metadata": {},
   "source": [
    "### Adding data\n",
    "\n",
    "You can add a new column to your dataset and populate it with 0s like this:"
   ]
  },
  {
   "cell_type": "code",
   "execution_count": null,
   "id": "ca3afe1a-aa36-4e16-98aa-43b47a59f2d1",
   "metadata": {},
   "outputs": [],
   "source": [
    "data['sepal_ratio'] = 0"
   ]
  },
  {
   "cell_type": "code",
   "execution_count": null,
   "id": "27928ff7-6c17-4bbb-993a-945160d8abab",
   "metadata": {},
   "outputs": [],
   "source": [
    "data"
   ]
  },
  {
   "cell_type": "markdown",
   "id": "41dfd417-1913-4257-adca-0579b77ec5c5",
   "metadata": {},
   "source": [
    "If we want it to have values we want, i.e. ratio of other two values, we can assign these values like this:"
   ]
  },
  {
   "cell_type": "code",
   "execution_count": null,
   "id": "05a73f06-f74e-4c47-8f61-58fe4fa18ae0",
   "metadata": {},
   "outputs": [],
   "source": [
    "data['sepal_ratio'] = data['sepal.length'] / data['sepal.width']\n",
    "data"
   ]
  },
  {
   "cell_type": "markdown",
   "id": "51e27213-5bcd-4bd5-8f22-29d58ddf3e24",
   "metadata": {},
   "source": [
    "To add a new row, we pass keys and values of a dictionary and then concatenate it with our dataset:"
   ]
  },
  {
   "cell_type": "code",
   "execution_count": null,
   "id": "ad03c479-3539-46ef-aa91-a18736e20aa9",
   "metadata": {},
   "outputs": [],
   "source": [
    "new_row = pd.DataFrame({'sepal.length': [5.5], 'sepal.width': [3.0], \n",
    "                        'petal.length': [1.5], 'petal.width': [0.2],\n",
    "                        'variety': ['Setosa'], 'sepal_ratio': [5.5/3.0]})\n",
    "data = pd.concat([data, new_row], ignore_index=True)"
   ]
  },
  {
   "cell_type": "code",
   "execution_count": null,
   "id": "f0e29faf-700d-4ded-af58-ff3bf56a0ae3",
   "metadata": {},
   "outputs": [],
   "source": [
    "data"
   ]
  },
  {
   "cell_type": "markdown",
   "id": "be04858e-edd4-407c-8827-f2259c86a010",
   "metadata": {},
   "source": [
    "### Updating and deleting data\n",
    "\n",
    "We have already updated data above, let's try some more: "
   ]
  },
  {
   "cell_type": "code",
   "execution_count": null,
   "id": "78872b50-8f7e-49b5-9a10-845a74168a8b",
   "metadata": {},
   "outputs": [],
   "source": [
    "data.loc[data['variety'] == 'Setosa', 'petal.length'] += 1 # this will add 1 to all values of petal.length for the Setosa variety\n",
    "data"
   ]
  },
  {
   "cell_type": "markdown",
   "id": "9f160447-e65c-48ae-ad77-e7b238477e9e",
   "metadata": {},
   "source": [
    "If we don't want a column anymore, we can delete it:"
   ]
  },
  {
   "cell_type": "code",
   "execution_count": null,
   "id": "11651487-aa18-4faf-b812-1ca81aab4fbe",
   "metadata": {},
   "outputs": [],
   "source": [
    "data.drop('sepal_ratio', axis=1, inplace=True)\n",
    "data.head()"
   ]
  },
  {
   "cell_type": "markdown",
   "id": "228e2c44-1166-4b01-b59c-885ee25516ff",
   "metadata": {},
   "source": [
    "If we don't want some rows, we can delete them like this:"
   ]
  },
  {
   "cell_type": "code",
   "execution_count": null,
   "id": "9b38c8b4-e458-4dc6-9edd-a413b521cbd6",
   "metadata": {},
   "outputs": [],
   "source": [
    "data.drop(data.index[0:5], inplace=True)\n",
    "data.head()"
   ]
  },
  {
   "cell_type": "markdown",
   "id": "b80b0ac4-574d-44ec-9723-aea5e2f4c939",
   "metadata": {},
   "source": [
    "### Data wrangling\n",
    "\n",
    "Wrangling is the process of cleaning, organizing, and transforming raw data into a format that's easier to analyze and use. There is a lot that you can do in data wrangling but we will only do some most-used operations."
   ]
  },
  {
   "cell_type": "markdown",
   "id": "9e642325-6d6b-4e55-8d4e-88f95ff1c008",
   "metadata": {},
   "source": [
    "Here is how you can filter rows based on values:"
   ]
  },
  {
   "cell_type": "code",
   "execution_count": null,
   "id": "9d8ed059-9dce-4f36-aad9-3bc90d711acf",
   "metadata": {},
   "outputs": [],
   "source": [
    "filtered_data = data[data['sepal.length'] > 5]\n",
    "filtered_data"
   ]
  },
  {
   "cell_type": "markdown",
   "id": "de6e9cac-2a26-4e93-9d67-a36498043d40",
   "metadata": {},
   "source": [
    "Renaming columns for easier use:"
   ]
  },
  {
   "cell_type": "code",
   "execution_count": null,
   "id": "bdf00512-7c27-4ed7-95ac-bea4365263be",
   "metadata": {},
   "outputs": [],
   "source": [
    "data.rename(columns={'sepal.length': 'sep.len', \n",
    "                     'sepal.width': 'sep.wid',\n",
    "                     'petal.length': 'pet.len',\n",
    "                     'petal.width': 'pet.wid'},\n",
    "           inplace=True)\n",
    "data"
   ]
  },
  {
   "cell_type": "markdown",
   "id": "ad2c212d-feca-4842-98f5-9810935ab8ef",
   "metadata": {},
   "source": [
    "One of the key steps in wrangling is handling missing values. You can see them as None or NaN in your table. These can sometimes cause some methods to return errors. There are very smart techniques that help you deal with those but here we will just remove them or fill with average values:"
   ]
  },
  {
   "cell_type": "code",
   "execution_count": null,
   "id": "9887fdae-65cd-4556-80a6-a90f9957d4b1",
   "metadata": {},
   "outputs": [],
   "source": [
    "data.loc[5:10, 'sep.len'] = None # first we have to introduce some missing values cause this dataset does not have any\n",
    "data"
   ]
  },
  {
   "cell_type": "code",
   "execution_count": null,
   "id": "9c10e8f4-67fc-462d-904a-05e92f81e06a",
   "metadata": {},
   "outputs": [],
   "source": [
    "data['sep.len'].fillna(data['sep.len'].mean(), inplace=True) # fill with mean values\n",
    "data"
   ]
  },
  {
   "cell_type": "code",
   "execution_count": null,
   "id": "da375b40-9907-4f9b-89ea-4df4ccfee328",
   "metadata": {},
   "outputs": [],
   "source": [
    "data.loc[5:10, 'sep.len'] = None "
   ]
  },
  {
   "cell_type": "code",
   "execution_count": null,
   "id": "d5d30fd5-8c31-4106-a0bd-574239ea10ff",
   "metadata": {},
   "outputs": [],
   "source": [
    "data.dropna(inplace=True) # remove rows with NaN values\n",
    "data"
   ]
  },
  {
   "cell_type": "markdown",
   "id": "6f1ce7a3-d349-49e9-9218-065ec25d1bb9",
   "metadata": {},
   "source": [
    "### Grouping and aggregation\n",
    "\n",
    "It is sometimes useful to group data by a certain criterion, like so:"
   ]
  },
  {
   "cell_type": "code",
   "execution_count": null,
   "id": "3cf1e902-7b00-42c0-be3b-7167dc36bd9c",
   "metadata": {},
   "outputs": [],
   "source": [
    "variety_mean = data.groupby('variety').mean()\n",
    "print(variety_mean)"
   ]
  },
  {
   "cell_type": "code",
   "execution_count": null,
   "id": "cdde7d54-a3f1-4c8c-9a73-96339d9cdc34",
   "metadata": {},
   "outputs": [],
   "source": [
    "variety_stats = data.groupby('variety').agg(['mean', 'median', 'std']) # multiple statistics\n",
    "print(variety_stats)"
   ]
  },
  {
   "cell_type": "code",
   "execution_count": null,
   "id": "14f3eb6d-ec34-4f44-adbc-47b24e73ebf5",
   "metadata": {},
   "outputs": [],
   "source": [
    "variety_custom = data.groupby('variety').agg( # custom aggregation\n",
    "    sep_len_mean=('sep.len', 'mean'), # mean of the column\n",
    "    pet_len_range=('pet.len', lambda x: x.max() - x.min()) # difference with a lambda expression (see Part 1)\n",
    ")\n",
    "print(variety_custom)"
   ]
  },
  {
   "cell_type": "markdown",
   "id": "e37878ef-fc59-46fe-bfc8-cd080dcd0a27",
   "metadata": {},
   "source": [
    "### Saving the data\n",
    "\n",
    "To save your dataframe in a .csv file, run:"
   ]
  },
  {
   "cell_type": "code",
   "execution_count": null,
   "id": "ded236f8-dc54-4c65-9888-755e34a0aeee",
   "metadata": {},
   "outputs": [],
   "source": [
    "data.to_csv('iris_upd.csv', index=True)"
   ]
  },
  {
   "cell_type": "markdown",
   "id": "e523bcc9-f720-4029-b9e3-f71a9c3d4c81",
   "metadata": {},
   "source": [
    "### Exercises\n",
    "\n",
    "Below are 3 exercises in order of increasing difficulty for the topics covered above:"
   ]
  },
  {
   "cell_type": "markdown",
   "id": "b8f6c8a0-bd34-489d-88d7-16a1f35fb262",
   "metadata": {
    "jp-MarkdownHeadingCollapsed": true
   },
   "source": [
    "#### 1.1. Exploratory data analysis\n",
    "\n",
    "Load the toy_dataset into a pandas dataframe:"
   ]
  },
  {
   "cell_type": "code",
   "execution_count": null,
   "id": "157a2636-6df7-4227-81fc-d4bf1008ccf5",
   "metadata": {},
   "outputs": [],
   "source": [
    "# load the data"
   ]
  },
  {
   "cell_type": "markdown",
   "id": "c8b5f999-0291-4afb-be45-42c4cddea359",
   "metadata": {},
   "source": [
    "Perform the following operations:"
   ]
  },
  {
   "cell_type": "code",
   "execution_count": null,
   "id": "67425ef4-f77c-45d5-820f-415f5c92c491",
   "metadata": {},
   "outputs": [],
   "source": [
    "# display the first 5 rows"
   ]
  },
  {
   "cell_type": "code",
   "execution_count": null,
   "id": "adf08186-020f-494e-9ad5-d60d7ec0e7d9",
   "metadata": {},
   "outputs": [],
   "source": [
    "# check for missing values -> HINT: take a look at isnull() and sum() methods"
   ]
  },
  {
   "cell_type": "code",
   "execution_count": null,
   "id": "fdd26537-d18a-4735-970b-fdc8bbda626e",
   "metadata": {},
   "outputs": [],
   "source": [
    "# calculcate basic summary statistics for numerical columns"
   ]
  },
  {
   "cell_type": "markdown",
   "id": "d0fde010-0058-4beb-b1b4-d2320817a20c",
   "metadata": {
    "jp-MarkdownHeadingCollapsed": true
   },
   "source": [
    "#### 1.2. Wrangling and aggregation\n",
    "\n",
    "Perform the following:"
   ]
  },
  {
   "cell_type": "code",
   "execution_count": null,
   "id": "188c6011-2cd3-4b75-8c7a-a969895b1a7c",
   "metadata": {},
   "outputs": [],
   "source": [
    "# filter the dataframe to include only rows where the City is New York City or Los Angeles -> HINT: look at isin() method"
   ]
  },
  {
   "cell_type": "code",
   "execution_count": null,
   "id": "e6adf444-fb7a-4d05-8816-f22bd81aade4",
   "metadata": {},
   "outputs": [],
   "source": [
    "# rename the column City to Location"
   ]
  },
  {
   "cell_type": "code",
   "execution_count": null,
   "id": "b480c852-caa2-4a2b-8317-ba5751ebc298",
   "metadata": {},
   "outputs": [],
   "source": [
    "# group the data by Gender and Lllness and calculate the number of individuals in each group -> HINT: look at size() method"
   ]
  },
  {
   "cell_type": "code",
   "execution_count": null,
   "id": "b37b2612-46e5-457e-9beb-0e37765d9ec8",
   "metadata": {},
   "outputs": [],
   "source": [
    "# calculate the percentage of people who are Ill for each City"
   ]
  },
  {
   "cell_type": "code",
   "execution_count": null,
   "id": "e445641d-ea89-4f59-9c9a-ed8f66baf737",
   "metadata": {},
   "outputs": [],
   "source": [
    "# identify the City with the highest average income"
   ]
  },
  {
   "cell_type": "markdown",
   "id": "14e60eab-16c1-4414-a529-567f1762733c",
   "metadata": {
    "jp-MarkdownHeadingCollapsed": true
   },
   "source": [
    "#### 1.3. Data analysis\n",
    "\n",
    "Perform the following:"
   ]
  },
  {
   "cell_type": "code",
   "execution_count": null,
   "id": "6a4d8384-7d9b-4e7a-ad08-c6ac33a24b23",
   "metadata": {},
   "outputs": [],
   "source": [
    "# add a new column called Income_level:\n",
    "# -> if income is higher in the top 25% of earners in the dataset, label it high\n",
    "# -> if income is lower than 25% of top earners but higher than 25% bottomg earners, label it medium\n",
    "# -> otherwise, label it low\n",
    "\n",
    "# HINT: look at quantile() method"
   ]
  },
  {
   "cell_type": "code",
   "execution_count": null,
   "id": "eae814a6-fdbd-4e0d-8f1c-716bd7887282",
   "metadata": {},
   "outputs": [],
   "source": [
    "# for each City, calculate the the average income per gender"
   ]
  },
  {
   "cell_type": "code",
   "execution_count": null,
   "id": "aaa4b2f1-b838-4537-bd13-ccb684d55546",
   "metadata": {},
   "outputs": [],
   "source": [
    "# identify the City where Female have more medium labels in the Income_level column than Male -> HINT: look at unstack() method4"
   ]
  },
  {
   "cell_type": "code",
   "execution_count": null,
   "id": "d089ff48-4cd5-4895-9d8e-b77bde088f03",
   "metadata": {},
   "outputs": [],
   "source": [
    "# save the final dataframe to a new csv file called toy_dataset_final.csv"
   ]
  },
  {
   "cell_type": "markdown",
   "id": "1b9d1854-8f02-4a10-b19c-6ffdf78500a2",
   "metadata": {},
   "source": [
    "### Solutions\n",
    "\n",
    "Below are the solutions with comments to the exercises from above:"
   ]
  },
  {
   "cell_type": "markdown",
   "id": "1fe06c67-23e5-4da2-8519-759a35228e56",
   "metadata": {
    "jp-MarkdownHeadingCollapsed": true
   },
   "source": [
    "#### 1.1. Exploratory data analysis"
   ]
  },
  {
   "cell_type": "code",
   "execution_count": null,
   "id": "62adf940-3399-4379-b1a6-d486319fc205",
   "metadata": {},
   "outputs": [],
   "source": [
    "# load the data\n",
    "df = pd.read_csv('toy_dataset.csv') # it is very common to name your dataframe df if you are just working with one dataframe for a project"
   ]
  },
  {
   "cell_type": "code",
   "execution_count": null,
   "id": "0d573378-14f0-40fe-a3a6-605d2cb6a5a3",
   "metadata": {},
   "outputs": [],
   "source": [
    "# display the first 5 rows\n",
    "df.head() # 5 rows is default, so we do not have to specify the number in ()"
   ]
  },
  {
   "cell_type": "code",
   "execution_count": null,
   "id": "a8292a36-9411-487e-b65e-c621a3696924",
   "metadata": {},
   "outputs": [],
   "source": [
    "# check for missing values\n",
    "missing_values = df.isnull().sum()\n",
    "missing_values"
   ]
  },
  {
   "cell_type": "code",
   "execution_count": null,
   "id": "0004da60-f8ec-452e-b83e-4660b56aa5d5",
   "metadata": {},
   "outputs": [],
   "source": [
    "# calculcate basic summary statistics for numerical columns\n",
    "summary_stats = df.describe()\n",
    "summary_stats"
   ]
  },
  {
   "cell_type": "markdown",
   "id": "e4b46966-d50c-4d26-b8c5-a352ad2ec1ad",
   "metadata": {},
   "source": [
    "Note that column number is just a number of the datapoint, so the statistics is not very informative."
   ]
  },
  {
   "cell_type": "markdown",
   "id": "cff21d06-81a6-4985-af6e-e92d16ca22dd",
   "metadata": {
    "jp-MarkdownHeadingCollapsed": true
   },
   "source": [
    "#### 1.2. Wrangling and aggregation"
   ]
  },
  {
   "cell_type": "code",
   "execution_count": null,
   "id": "a7638f11-adf4-44e7-9d79-b670c591bd82",
   "metadata": {},
   "outputs": [],
   "source": [
    "# filter the dataframe to include only rows where the city is New York City or Los Angeles\n",
    "filtered_df = df[df['City'].isin(['New York City', 'Los Angeles'])]\n",
    "filtered_df"
   ]
  },
  {
   "cell_type": "code",
   "execution_count": null,
   "id": "38d13796-ab52-4d1f-b6be-c47c0032ac96",
   "metadata": {},
   "outputs": [],
   "source": [
    "# rename the column City to Location\n",
    "df.rename(columns={'City': 'Location'}, inplace=True)\n",
    "df"
   ]
  },
  {
   "cell_type": "code",
   "execution_count": null,
   "id": "8e4f9e3a-823a-4f9d-8e49-a49e0db6368b",
   "metadata": {},
   "outputs": [],
   "source": [
    "# group the data by Gender and Lllness and calculate the number of individuals in each group\n",
    "grouped_counts = df.groupby(['Gender', 'Illness']).size().reset_index(name='count')\n",
    "grouped_counts"
   ]
  },
  {
   "cell_type": "code",
   "execution_count": null,
   "id": "1f72f5dc-9565-416b-bdc6-ad9f13439670",
   "metadata": {},
   "outputs": [],
   "source": [
    "# calculate the percentage of people who are Ill for each City\n",
    "ill_counts = df[df['Illness'] == 'Yes'].groupby('Location').size() # first calculate the number of Ill people in each City\n",
    "total_counts = df.groupby('Location').size() # then calculate the number of all people in a City \n",
    "\n",
    "ill_percentage = (ill_counts / total_counts * 100).reset_index(name='ill_percentage') # divie one by another and *100 to get %\n",
    "ill_percentage"
   ]
  },
  {
   "cell_type": "markdown",
   "id": "dec5b1f1-00d7-4c27-b44d-dd3589bec244",
   "metadata": {},
   "source": [
    "Here and in the question above, .reset_index(name='X') is just for cosmetic purposes, you can check that the code runs without it too:"
   ]
  },
  {
   "cell_type": "code",
   "execution_count": null,
   "id": "c4dd5140-dec3-464d-ae1a-78c85c0d5450",
   "metadata": {},
   "outputs": [],
   "source": [
    "grouped_counts = df.groupby(['Gender', 'Illness']).size()\n",
    "grouped_counts"
   ]
  },
  {
   "cell_type": "code",
   "execution_count": null,
   "id": "789bf53c-caf6-404a-a3e1-efd8fbfc9718",
   "metadata": {},
   "outputs": [],
   "source": [
    "ill_percentage = (ill_counts / total_counts * 100)\n",
    "ill_percentage"
   ]
  },
  {
   "cell_type": "code",
   "execution_count": null,
   "id": "ee0153c8-f959-4ad8-b10a-467e652fe3bd",
   "metadata": {},
   "outputs": [],
   "source": [
    "# identify the City with the highest average income\n",
    "highest_avg_income = df.groupby('Location')['Income'].mean().idxmax()\n",
    "print(f'The city with the highest average income is: {highest_avg_income}')"
   ]
  },
  {
   "cell_type": "markdown",
   "id": "b6905273-15ff-4f73-b0b7-0650788a5870",
   "metadata": {},
   "source": [
    "We can verify that it is correct: "
   ]
  },
  {
   "cell_type": "code",
   "execution_count": null,
   "id": "8c815761-b4a6-4bc2-a452-4efb756e43c4",
   "metadata": {},
   "outputs": [],
   "source": [
    "avg_income = df.groupby('Location')['Income'].mean()\n",
    "avg_income"
   ]
  },
  {
   "cell_type": "markdown",
   "id": "5e9dc611-24c1-4a8f-ac48-a3aaa96cf116",
   "metadata": {},
   "source": [
    "#### 1.3. Data analysis"
   ]
  },
  {
   "cell_type": "code",
   "execution_count": null,
   "id": "4ba54fce-5801-4355-b485-6e8407978743",
   "metadata": {},
   "outputs": [],
   "source": [
    "# add a new column called Income_level:\n",
    "# -> if income is higher in the top 25% of earners in the dataset, label it high\n",
    "# -> if income is lower than 25% of top earners but higher than 25% bottomg earners, label it medium\n",
    "# -> otherwise, label it low\n",
    "\n",
    "# we first calculate income quartiles\n",
    "q75 = df['Income'].quantile(0.75) # top 25% earners\n",
    "q25 = df['Income'].quantile(0.25) # top 75% earners"
   ]
  },
  {
   "cell_type": "code",
   "execution_count": null,
   "id": "f07fe11e-29ce-43ad-bae9-d21a376e309d",
   "metadata": {},
   "outputs": [],
   "source": [
    "def categorize_income(income): # we define a function to assign values to the Income_level column\n",
    "    if income > q75:\n",
    "        return 'high'\n",
    "    elif income > q25:\n",
    "        return 'medium'\n",
    "    else:\n",
    "        return 'low'"
   ]
  },
  {
   "cell_type": "code",
   "execution_count": null,
   "id": "d0772392-89b3-4d94-b7fa-d70198a374a2",
   "metadata": {},
   "outputs": [],
   "source": [
    "df['Income_level'] = df['Income'].apply(categorize_income)"
   ]
  },
  {
   "cell_type": "code",
   "execution_count": null,
   "id": "fec07c5c-6b81-47cb-81c7-c2bc41356002",
   "metadata": {},
   "outputs": [],
   "source": [
    "df"
   ]
  },
  {
   "cell_type": "code",
   "execution_count": null,
   "id": "7ad16a4f-afac-4a37-b6dc-81cb0f233451",
   "metadata": {},
   "outputs": [],
   "source": [
    "# for each City, calculate the the average income per Gender\n",
    "avg_income_by_gender = df.groupby(['Location', 'Gender'])['Income'].mean().reset_index()\n",
    "avg_income_by_gender"
   ]
  },
  {
   "cell_type": "code",
   "execution_count": null,
   "id": "bb08eda2-4e1b-46e7-9a8e-fe58721cec67",
   "metadata": {},
   "outputs": [],
   "source": [
    "# identify the City where Female have more medium labels in the Income_level column than Male\n",
    "\n",
    "mid_income = df[df['Income_level'] == 'medium'] # first we only filter the dataframe to include Income_level labelled high\n",
    "mid_income_counts = mid_income.groupby(['Location', 'Gender']).size().unstack() # just like above, we group by Location and Gender\n",
    "mid_income_counts"
   ]
  },
  {
   "cell_type": "code",
   "execution_count": null,
   "id": "d641cb2e-8bdd-4ac9-9f46-57879705d0ec",
   "metadata": {},
   "outputs": [],
   "source": [
    "mid_income_counts['female_over_male'] = mid_income_counts['Female'] - mid_income_counts['Male'] # get difference\n",
    "# get the city with the highest difference\n",
    "city_with_highest_diff = mid_income_counts[mid_income_counts['female_over_male'] > 0].sort_values('female_over_male', ascending=False).head(1)\n",
    "print(f'City with the highest difference is: {city_with_highest_diff.index[0]}')"
   ]
  },
  {
   "cell_type": "markdown",
   "id": "5e5abb81-969d-4865-a5c6-1ca7e00da824",
   "metadata": {},
   "source": [
    "You can how save your dataframe: "
   ]
  },
  {
   "cell_type": "code",
   "execution_count": null,
   "id": "05713fc9-e492-4530-a853-a8930a29f90a",
   "metadata": {},
   "outputs": [],
   "source": [
    "df.to_csv('toy_upd.csv', index=True)"
   ]
  }
 ],
 "metadata": {
  "kernelspec": {
   "display_name": "Python 3 (ipykernel)",
   "language": "python",
   "name": "python3"
  },
  "language_info": {
   "codemirror_mode": {
    "name": "ipython",
    "version": 3
   },
   "file_extension": ".py",
   "mimetype": "text/x-python",
   "name": "python",
   "nbconvert_exporter": "python",
   "pygments_lexer": "ipython3",
   "version": "3.12.7"
  }
 },
 "nbformat": 4,
 "nbformat_minor": 5
}
